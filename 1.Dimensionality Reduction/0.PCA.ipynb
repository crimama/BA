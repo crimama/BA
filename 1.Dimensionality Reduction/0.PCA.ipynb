{
 "cells": [
  {
   "cell_type": "markdown",
   "metadata": {},
   "source": [
    "https://excelsior-cjh.tistory.com/167\n",
    "https://techblog-history-younghunjo1.tistory.com/134#:~:text=%EC%A0%81%EC%A0%88%ED%95%9C%20%EC%A3%BC%EC%84%B1%EB%B6%84%20%EA%B0%9C%EC%88%98%EB%A5%BC%20%EC%84%A4%EC%A0%95%ED%95%98%EA%B8%B0%20%EC%9C%84%ED%95%B4%EC%84%9C%20%EC%9A%B0%EC%84%A0%EC%9D%80%20%EC%9B%90%EB%B3%B8,%EB%8D%B0%EC%9D%B4%ED%84%B0%ED%94%84%EB%A0%88%EC%9E%84%EC%9D%84%20%EC%83%9D%EC%84%B1%ED%95%98%EC%9E%90.&text=%EC%9C%84%EC%99%80%20%EA%B0%99%EC%9D%B4%20%EC%A3%BC%EC%84%B1%EB%B6%84%EC%9D%84%208%EA%B0%9C%EB%A1%9C%20%EC%84%A4%EC%A0%95%ED%96%88%EC%9D%84%20%EB%95%8C%20%EA%B2%B0%EA%B3%BC%EA%B0%80%20%EB%82%98%EC%99%94%EB%8B%A4."
   ]
  },
  {
   "cell_type": "code",
   "execution_count": 1,
   "metadata": {},
   "outputs": [],
   "source": [
    "import pandas as pd \n",
    "import numpy as np \n",
    "import matplotlib.pyplot as plt \n",
    "import sklearn \n",
    "import seaborn as sns \n",
    "import os \n",
    "from tqdm import tqdm \n",
    "from glob import glob \n",
    "import warnings\n",
    "warnings.filterwarnings(action='ignore')"
   ]
  },
  {
   "cell_type": "markdown",
   "metadata": {},
   "source": [
    "# 데이터 로드 "
   ]
  },
  {
   "cell_type": "code",
   "execution_count": null,
   "metadata": {},
   "outputs": [],
   "source": [
    "df = pd.read_csv('./Data/winequality-white.csv')\n",
    "df['class'] = df['quality']\n",
    "df = df.drop(columns = ['quality'])"
   ]
  },
  {
   "cell_type": "code",
   "execution_count": null,
   "metadata": {},
   "outputs": [],
   "source": [
    "from sklearn.datasets import fetch_kddcup99\n",
    "data = fetch_kddcup99()\n",
    "df = pd.DataFrame(data.data)\n",
    "df.columns = data['feature_names']\n",
    "df['class'] = data['target']\n",
    "df = df.sample(frac=1,random_state=42).reset_index(drop=True)"
   ]
  },
  {
   "cell_type": "markdown",
   "metadata": {},
   "source": [
    "# 기본 전처리 "
   ]
  },
  {
   "cell_type": "code",
   "execution_count": null,
   "metadata": {},
   "outputs": [
    {
     "name": "stdout",
     "output_type": "stream",
     "text": [
      "<class 'pandas.core.frame.DataFrame'>\n",
      "RangeIndex: 4898 entries, 0 to 4897\n",
      "Data columns (total 12 columns):\n",
      " #   Column                Non-Null Count  Dtype  \n",
      "---  ------                --------------  -----  \n",
      " 0   fixed acidity         4898 non-null   float64\n",
      " 1   volatile acidity      4898 non-null   float64\n",
      " 2   citric acid           4898 non-null   float64\n",
      " 3   residual sugar        4898 non-null   float64\n",
      " 4   chlorides             4898 non-null   float64\n",
      " 5   free sulfur dioxide   4898 non-null   float64\n",
      " 6   total sulfur dioxide  4898 non-null   float64\n",
      " 7   density               4898 non-null   float64\n",
      " 8   pH                    4898 non-null   float64\n",
      " 9   sulphates             4898 non-null   float64\n",
      " 10  alcohol               4898 non-null   float64\n",
      " 11  quality               4898 non-null   int64  \n",
      "dtypes: float64(11), int64(1)\n",
      "memory usage: 459.3 KB\n"
     ]
    }
   ],
   "source": [
    "# 결측치 확인 \n",
    "df.info()"
   ]
  },
  {
   "cell_type": "markdown",
   "metadata": {},
   "source": [
    "## Categorical Data Embedding \n",
    "- 카테고리 데이터를 0,1 ... 등으로 변환 함 "
   ]
  },
  {
   "cell_type": "code",
   "execution_count": null,
   "metadata": {},
   "outputs": [
    {
     "name": "stdout",
     "output_type": "stream",
     "text": [
      "protocol_type_label_embedding\n",
      "service_label_embedding\n",
      "flag_label_embedding\n",
      "class_label_embedding\n"
     ]
    }
   ],
   "source": [
    "#Label Embedding Dict\n",
    "target_columns = ['protocol_type','service','flag','class']\n",
    "\n",
    "\n",
    "def make_label_embedding(column):\n",
    "    return {value:i for i,value in enumerate(np.unique(df[column]))}\n",
    "\n",
    "class embeder:\n",
    "    __init__ = 0 \n",
    "\n",
    "for column in target_columns:\n",
    "    exec(f'embeder.{column}_label_embedding = {make_label_embedding(column)}')\n",
    "    print(f'{column}_label_embedding')\n",
    "\n",
    "column = target_columns[0]\n",
    "for column in target_columns:\n",
    "    exec(f'encoder = embeder.{column}_label_embedding')\n",
    "    df[column] = df[column].apply(lambda x : encoder[x])    "
   ]
  },
  {
   "cell_type": "markdown",
   "metadata": {},
   "source": [
    "## 컬럼 제거 \n",
    "- 모두 0인 값을 갖는 컬럼 제거 "
   ]
  },
  {
   "cell_type": "code",
   "execution_count": null,
   "metadata": {},
   "outputs": [],
   "source": [
    "target_columns = ['sequence','subject','step']\n",
    "df = df.drop(columns = target_columns)"
   ]
  },
  {
   "cell_type": "code",
   "execution_count": null,
   "metadata": {},
   "outputs": [
    {
     "name": "stdout",
     "output_type": "stream",
     "text": [
      "-4115.289070075064\n"
     ]
    }
   ],
   "source": [
    "print(np.sum(df.min().values))\n",
    "#min 값은 모두 0을 가짐; max 값이 0인 feature 찾아서 제거 \n",
    "target_columns = df.max().reset_index()[df.max().reset_index()[0]==0]['index'].values\n",
    "df = df.drop(columns = target_columns)"
   ]
  },
  {
   "cell_type": "markdown",
   "metadata": {},
   "source": [
    "## Train-Valid 분리 "
   ]
  },
  {
   "cell_type": "code",
   "execution_count": null,
   "metadata": {},
   "outputs": [],
   "source": [
    "length = len(df) \n",
    "train_length = int(length*0.7)\n",
    "\n",
    "train_x = np.array(df.drop(columns = ['class']).iloc[:train_length])\n",
    "valid_x = np.array(df.drop(columns = ['class']).iloc[train_length:])\n",
    "\n",
    "train_y = np.array(df['class'].iloc[:train_length])\n",
    "valid_y = np.array(df['class'].iloc[train_length:])\n"
   ]
  },
  {
   "cell_type": "markdown",
   "metadata": {},
   "source": [
    "## Scaling "
   ]
  },
  {
   "cell_type": "code",
   "execution_count": null,
   "metadata": {},
   "outputs": [],
   "source": [
    "class scaling:\n",
    "    def __init__(self,train_x):\n",
    "        self.x = train_x  \n",
    "        self.min, self.max = self.make_scaling_value()\n",
    "    def make_scaling_value(self):\n",
    "        min_value = np.min(self.x,axis=0) \n",
    "        max_value = np.max(self.x,axis=0) \n",
    "        return min_value, max_value \n",
    "    def __call__(self,x):\n",
    "        scaled_value = (x-self.min)/(self.max-self.min)\n",
    "        return scaled_value \n",
    "        \n",
    "#트레인 데이터를 기준으로 스케일링 진행 \n",
    "scaler = scaling(train_x)\n",
    "train_x = scaler(train_x)\n",
    "valid_x = scaler(valid_x)        "
   ]
  },
  {
   "cell_type": "markdown",
   "metadata": {},
   "source": [
    "# 차원 축소 "
   ]
  },
  {
   "cell_type": "code",
   "execution_count": null,
   "metadata": {},
   "outputs": [
    {
     "data": {
      "text/html": [
       "<div>\n",
       "<style scoped>\n",
       "    .dataframe tbody tr th:only-of-type {\n",
       "        vertical-align: middle;\n",
       "    }\n",
       "\n",
       "    .dataframe tbody tr th {\n",
       "        vertical-align: top;\n",
       "    }\n",
       "\n",
       "    .dataframe thead th {\n",
       "        text-align: right;\n",
       "    }\n",
       "</style>\n",
       "<table border=\"1\" class=\"dataframe\">\n",
       "  <thead>\n",
       "    <tr style=\"text-align: right;\">\n",
       "      <th></th>\n",
       "      <th>설명가능한 분산 비율(고윳값)</th>\n",
       "      <th>기여율</th>\n",
       "      <th>누적기여율</th>\n",
       "    </tr>\n",
       "  </thead>\n",
       "  <tbody>\n",
       "    <tr>\n",
       "      <th>pca1</th>\n",
       "      <td>0.050316</td>\n",
       "      <td>0.348686</td>\n",
       "      <td>0.348686</td>\n",
       "    </tr>\n",
       "    <tr>\n",
       "      <th>pca2</th>\n",
       "      <td>0.024608</td>\n",
       "      <td>0.170535</td>\n",
       "      <td>0.519221</td>\n",
       "    </tr>\n",
       "    <tr>\n",
       "      <th>pca3</th>\n",
       "      <td>0.017589</td>\n",
       "      <td>0.121894</td>\n",
       "      <td>0.641116</td>\n",
       "    </tr>\n",
       "    <tr>\n",
       "      <th>pca4</th>\n",
       "      <td>0.015877</td>\n",
       "      <td>0.110030</td>\n",
       "      <td>0.751146</td>\n",
       "    </tr>\n",
       "    <tr>\n",
       "      <th>pca5</th>\n",
       "      <td>0.012558</td>\n",
       "      <td>0.087027</td>\n",
       "      <td>0.838172</td>\n",
       "    </tr>\n",
       "    <tr>\n",
       "      <th>pca6</th>\n",
       "      <td>0.006362</td>\n",
       "      <td>0.044088</td>\n",
       "      <td>0.882261</td>\n",
       "    </tr>\n",
       "    <tr>\n",
       "      <th>pca7</th>\n",
       "      <td>0.004955</td>\n",
       "      <td>0.034341</td>\n",
       "      <td>0.916602</td>\n",
       "    </tr>\n",
       "    <tr>\n",
       "      <th>pca8</th>\n",
       "      <td>0.004655</td>\n",
       "      <td>0.032262</td>\n",
       "      <td>0.948864</td>\n",
       "    </tr>\n",
       "    <tr>\n",
       "      <th>pca9</th>\n",
       "      <td>0.003976</td>\n",
       "      <td>0.027553</td>\n",
       "      <td>0.976416</td>\n",
       "    </tr>\n",
       "    <tr>\n",
       "      <th>pca10</th>\n",
       "      <td>0.003295</td>\n",
       "      <td>0.022833</td>\n",
       "      <td>0.999249</td>\n",
       "    </tr>\n",
       "    <tr>\n",
       "      <th>pca11</th>\n",
       "      <td>0.000108</td>\n",
       "      <td>0.000751</td>\n",
       "      <td>1.000000</td>\n",
       "    </tr>\n",
       "  </tbody>\n",
       "</table>\n",
       "</div>"
      ],
      "text/plain": [
       "       설명가능한 분산 비율(고윳값)       기여율     누적기여율\n",
       "pca1           0.050316  0.348686  0.348686\n",
       "pca2           0.024608  0.170535  0.519221\n",
       "pca3           0.017589  0.121894  0.641116\n",
       "pca4           0.015877  0.110030  0.751146\n",
       "pca5           0.012558  0.087027  0.838172\n",
       "pca6           0.006362  0.044088  0.882261\n",
       "pca7           0.004955  0.034341  0.916602\n",
       "pca8           0.004655  0.032262  0.948864\n",
       "pca9           0.003976  0.027553  0.976416\n",
       "pca10          0.003295  0.022833  0.999249\n",
       "pca11          0.000108  0.000751  1.000000"
      ]
     },
     "metadata": {},
     "output_type": "display_data"
    }
   ],
   "source": [
    "from sklearn.decomposition import PCA\n",
    "\n",
    "#PCA를 수행하기 전 적절한 주성분 개수를 파악해야 함 \n",
    "pca = PCA(n_components=len(df.columns)-1)\n",
    "pca_array = pca.fit_transform(train_x)\n",
    "pca_df = pd.DataFrame(pca_array,index=pd.DataFrame(train_x).index,\n",
    "                      columns = [f\"pca{num+1}\" for num in range(len(df.columns)-1)])\n",
    "                      \n",
    "#개별 고윳값 즉, 각 주성분 마다 고윳값이 0.7이상인 주성분들, \n",
    "#누적기여율이 80% 이상이 넘어거지는 지점까지의 주성분들을 기준으로 하여 적절한 주성분 개수를 설정\n",
    "result = pd.DataFrame({'설명가능한 분산 비율(고윳값)':pca.explained_variance_,\n",
    "             '기여율':pca.explained_variance_ratio_},\n",
    "            index=np.array([f\"pca{num+1}\" for num in range(len(df.columns)-1)]))\n",
    "result['누적기여율'] = result['기여율'].cumsum()\n",
    "result                      "
   ]
  },
  {
   "cell_type": "markdown",
   "metadata": {},
   "source": [
    "# 모델링 "
   ]
  },
  {
   "cell_type": "code",
   "execution_count": null,
   "metadata": {},
   "outputs": [
    {
     "name": "stdout",
     "output_type": "stream",
     "text": [
      "              precision    recall  f1-score   support\n",
      "\n",
      "           3       0.00      0.00      0.00         2\n",
      "           4       0.00      0.00      0.00        37\n",
      "           5       0.58      0.53      0.55       394\n",
      "           6       0.59      0.73      0.66       733\n",
      "           7       0.48      0.37      0.42       262\n",
      "           8       0.00      0.00      0.00        42\n",
      "\n",
      "    accuracy                           0.57      1470\n",
      "   macro avg       0.28      0.27      0.27      1470\n",
      "weighted avg       0.54      0.57      0.55      1470\n",
      "\n"
     ]
    }
   ],
   "source": [
    "from sklearn.linear_model import  RidgeClassifier,LogisticRegression\n",
    "from sklearn.ensemble import RandomForestClassifier\n",
    "from sklearn.metrics import classification_report\n",
    "from sklearn.svm import SVC\n",
    "model = RidgeClassifier()\n",
    "model.fit(train_x,train_y)\n",
    "y_ = model.predict(valid_x)\n",
    "print(classification_report(y_true= valid_y,y_pred = y_))"
   ]
  },
  {
   "cell_type": "code",
   "execution_count": null,
   "metadata": {},
   "outputs": [
    {
     "name": "stdout",
     "output_type": "stream",
     "text": [
      "              precision    recall  f1-score   support\n",
      "\n",
      "           3       0.00      0.00      0.00         2\n",
      "           4       0.00      0.00      0.00        37\n",
      "           5       0.55      0.53      0.54       394\n",
      "           6       0.60      0.71      0.65       733\n",
      "           7       0.46      0.38      0.42       262\n",
      "           8       0.00      0.00      0.00        42\n",
      "\n",
      "    accuracy                           0.57      1470\n",
      "   macro avg       0.27      0.27      0.27      1470\n",
      "weighted avg       0.53      0.57      0.54      1470\n",
      "\n"
     ]
    }
   ],
   "source": [
    "from sklearn.decomposition import PCA\n",
    "pca = PCA(n_components=7)\n",
    "pca_train_x = pca.fit_transform(train_x.astype(np.float16))\n",
    "pca_valid_x = pca.transform(valid_x.astype(np.float16))\n",
    "\n",
    "model = RidgeClassifier()\n",
    "model.fit(pca_train_x,train_y)\n",
    "y_ = model.predict(pca_valid_x)\n",
    "print(classification_report(y_true= valid_y,y_pred = y_))"
   ]
  },
  {
   "cell_type": "code",
   "execution_count": null,
   "metadata": {},
   "outputs": [
    {
     "ename": "AttributeError",
     "evalue": "'MDS' object has no attribute 'transform'",
     "output_type": "error",
     "traceback": [
      "\u001b[0;31m---------------------------------------------------------------------------\u001b[0m\n",
      "\u001b[0;31mAttributeError\u001b[0m                            Traceback (most recent call last)\n",
      "Cell \u001b[0;32mIn [30], line 4\u001b[0m\n",
      "\u001b[1;32m      2\u001b[0m pca \u001b[38;5;241m=\u001b[39m MDS(n_components\u001b[38;5;241m=\u001b[39m\u001b[38;5;241m7\u001b[39m)\n",
      "\u001b[1;32m      3\u001b[0m pca_train_x \u001b[38;5;241m=\u001b[39m pca\u001b[38;5;241m.\u001b[39mfit_transform(train_x\u001b[38;5;241m.\u001b[39mastype(np\u001b[38;5;241m.\u001b[39mfloat16))\n",
      "\u001b[0;32m----> 4\u001b[0m pca_valid_x \u001b[38;5;241m=\u001b[39m \u001b[43mpca\u001b[49m\u001b[38;5;241;43m.\u001b[39;49m\u001b[43mtransform\u001b[49m(valid_x\u001b[38;5;241m.\u001b[39mastype(np\u001b[38;5;241m.\u001b[39mfloat16))\n",
      "\u001b[1;32m      6\u001b[0m model \u001b[38;5;241m=\u001b[39m RidgeClassifier()\n",
      "\u001b[1;32m      7\u001b[0m model\u001b[38;5;241m.\u001b[39mfit(pca_train_x,train_y)\n",
      "\n",
      "\u001b[0;31mAttributeError\u001b[0m: 'MDS' object has no attribute 'transform'"
     ]
    }
   ],
   "source": [
    "from sklearn.manifold import MDS \n",
    "pca = MDS(n_components=7)\n",
    "pca_train_x = pca.fit_transform(train_x.astype(np.float16))\n",
    "pca_valid_x = pca.transform(valid_x.astype(np.float16))\n",
    "\n",
    "model = RidgeClassifier()\n",
    "model.fit(pca_train_x,train_y)\n",
    "y_ = model.predict(pca_valid_x)\n",
    "print(classification_report(y_true= valid_y,y_pred = y_))"
   ]
  },
  {
   "cell_type": "code",
   "execution_count": null,
   "metadata": {},
   "outputs": [
    {
     "ename": "AttributeError",
     "evalue": "'MDS' object has no attribute 'transform'",
     "output_type": "error",
     "traceback": [
      "\u001b[0;31m---------------------------------------------------------------------------\u001b[0m\n",
      "\u001b[0;31mAttributeError\u001b[0m                            Traceback (most recent call last)\n",
      "Cell \u001b[0;32mIn [30], line 4\u001b[0m\n",
      "\u001b[1;32m      2\u001b[0m pca \u001b[38;5;241m=\u001b[39m MDS(n_components\u001b[38;5;241m=\u001b[39m\u001b[38;5;241m7\u001b[39m)\n",
      "\u001b[1;32m      3\u001b[0m pca_train_x \u001b[38;5;241m=\u001b[39m pca\u001b[38;5;241m.\u001b[39mfit_transform(train_x\u001b[38;5;241m.\u001b[39mastype(np\u001b[38;5;241m.\u001b[39mfloat16))\n",
      "\u001b[0;32m----> 4\u001b[0m pca_valid_x \u001b[38;5;241m=\u001b[39m \u001b[43mpca\u001b[49m\u001b[38;5;241;43m.\u001b[39;49m\u001b[43mtransform\u001b[49m(valid_x\u001b[38;5;241m.\u001b[39mastype(np\u001b[38;5;241m.\u001b[39mfloat16))\n",
      "\u001b[1;32m      6\u001b[0m model \u001b[38;5;241m=\u001b[39m RidgeClassifier()\n",
      "\u001b[1;32m      7\u001b[0m model\u001b[38;5;241m.\u001b[39mfit(pca_train_x,train_y)\n",
      "\n",
      "\u001b[0;31mAttributeError\u001b[0m: 'MDS' object has no attribute 'transform'"
     ]
    }
   ],
   "source": [
    "from sklearn.manifold import MDS \n",
    "pca = MDS(n_components=7)\n",
    "pca_train_x = pca.fit_transform(train_x.astype(np.float16))\n",
    "pca_valid_x = pca.transform(valid_x.astype(np.float16))\n",
    "\n",
    "model = RidgeClassifier()\n",
    "model.fit(pca_train_x,train_y)\n",
    "y_ = model.predict(pca_valid_x)\n",
    "print(classification_report(y_true= valid_y,y_pred = y_))"
   ]
  }
 ],
 "metadata": {
  "kernelspec": {
   "display_name": "Python 3.9.12 ('base')",
   "language": "python",
   "name": "python3"
  },
  "language_info": {
   "codemirror_mode": {
    "name": "ipython",
    "version": 3
   },
   "file_extension": ".py",
   "mimetype": "text/x-python",
   "name": "python",
   "nbconvert_exporter": "python",
   "pygments_lexer": "ipython3",
   "version": "3.9.12"
  },
  "orig_nbformat": 4,
  "vscode": {
   "interpreter": {
    "hash": "9b4a666a3140e696faf634e3cbfbedada3b99a8ffe9c30d675d10e862f673a60"
   }
  }
 },
 "nbformat": 4,
 "nbformat_minor": 2
}
