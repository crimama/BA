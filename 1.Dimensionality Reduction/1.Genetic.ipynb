{
 "cells": [
  {
   "cell_type": "markdown",
   "metadata": {},
   "source": [
    "# 유전 알고리즘 "
   ]
  },
  {
   "cell_type": "markdown",
   "metadata": {},
   "source": [
    "**변수 선택**\n",
    "- 변수 선택이란 데이터가 갖고 있는 많은 변수, Features 중에서 최선의 변수 조합을 찾아내는 기법 \n",
    "- 차원 축소 방법론 중 하나이며 주로 Supervised 방법론이 많음 \n",
    "-  종류로는 전진 선택법, 후진 제거법, 단계선택법 그리고 유전 알고리즘 등이 있다. \n",
    "\n",
    "**유전 알고리즘**\n",
    "\n",
    "Overview \n",
    "- 전진 선택법, 후진 제거법, 단계 선택법과 같은 지도 차원 축소 방법은 변수의 모든 부분 집합을 대상으로 최적해를 탐색하는 것이 아닌 일부의 부분집합만을 대상으로 탐색을 진행하는 local search에 해당한다. \n",
    "- Local search는 연산속도 측면에서 효율적인 장점이 있지만 한편으로는 local minimum에 빠질 수 있다라는 문제가 존재한다. \n",
    "- 따라서 기존의 local search에 한계점을 보완함으로써 성능을 향상시키고자 하는 것이 유전 알고리즘의 목적이다. \n",
    "\n",
    "용어 \n",
    "- 염색체 : 유전 알고리즘에서는 변수 선택을 나타내기 위한 표현, 변수 조합 \n",
    "- 유전자 : 염색체에 존재하는 각 변수의 변수 선택 여부 인코딩 정보(선택=1,미선택=0)\n",
    "- 자손 : 부모 염색체 일부를 섞는 crossover 과정을 통해 생성된 염색체 \n",
    "- 적합도 : 각 염색체로 모델링 후의 성능 \n",
    "\n",
    "순서 \n",
    "\n",
    "1. 염색체 초기화 및 파라미터 설정 \n",
    "2. 각 염색체 선택, 변수 별 모델 학습 \n",
    "3. 염색체 적합도 평가 (성능 평가)\n",
    "4. 우수 염색체 선택 \n",
    "5. 다음 세대 염색체 생성 (crossover,mutation)\n",
    "6. 최종 변수 집합 선택 \n"
   ]
  },
  {
   "cell_type": "markdown",
   "metadata": {},
   "source": [
    "Sklearn 의 wine 데이터셋을 기반으로 진행 "
   ]
  },
  {
   "cell_type": "code",
   "execution_count": 103,
   "metadata": {},
   "outputs": [],
   "source": [
    "import pandas as pd \n",
    "import numpy as np \n",
    "from sklearn.datasets import load_wine,load_diabetes\n",
    "from tqdm import tqdm \n",
    "import random "
   ]
  },
  {
   "cell_type": "code",
   "execution_count": 104,
   "metadata": {},
   "outputs": [
    {
     "name": "stdout",
     "output_type": "stream",
     "text": [
      "10\n"
     ]
    }
   ],
   "source": [
    "data = load_diabetes()\n",
    "#target_name = data.target_names\n",
    "features = np.array(data.feature_names)\n",
    "num_features = len(features)\n",
    "#print(target_name)\n",
    "print(num_features)\n",
    "\n",
    "#데이터 로드  \n",
    "df = pd.DataFrame(data.data)\n",
    "df.columns = data['feature_names']\n",
    "df['class'] = data['target']\n",
    "df = df.sample(frac=1,random_state=42).reset_index(drop=True)"
   ]
  },
  {
   "cell_type": "markdown",
   "metadata": {},
   "source": [
    "# Step 1 : 염색체 초기화 및 파라미터 설정 \n",
    "- Data의 Features 수에 맞게 Chromosome list를 생성하여 초기 Population을 만듦\n",
    "- 각 Chromosome은 Random으로 생성된 Binary Integer로 채워 짐 "
   ]
  },
  {
   "cell_type": "code",
   "execution_count": 150,
   "metadata": {},
   "outputs": [
    {
     "data": {
      "text/plain": [
       "[array([1, 0, 0, 1, 1, 0, 1, 0, 1, 0]),\n",
       " array([0, 0, 1, 1, 0, 1, 0, 0, 0, 1]),\n",
       " array([0, 0, 0, 0, 1, 0, 0, 0, 1, 0]),\n",
       " array([0, 1, 0, 0, 0, 1, 0, 1, 0, 1]),\n",
       " array([1, 1, 1, 0, 1, 1, 0, 0, 0, 0]),\n",
       " array([0, 1, 0, 0, 1, 0, 0, 0, 1, 0]),\n",
       " array([1, 0, 0, 0, 1, 1, 0, 0, 0, 1]),\n",
       " array([1, 1, 0, 0, 0, 1, 1, 1, 1, 0]),\n",
       " array([0, 1, 1, 1, 0, 1, 1, 0, 0, 0]),\n",
       " array([0, 1, 1, 0, 0, 0, 0, 0, 0, 0]),\n",
       " array([1, 1, 0, 0, 0, 1, 1, 0, 0, 1]),\n",
       " array([0, 0, 1, 0, 1, 0, 1, 1, 0, 0]),\n",
       " array([1, 1, 0, 0, 0, 1, 0, 1, 0, 1]),\n",
       " array([1, 0, 1, 1, 1, 0, 0, 0, 0, 1]),\n",
       " array([1, 0, 0, 0, 1, 1, 0, 1, 0, 1]),\n",
       " array([1, 0, 0, 1, 1, 1, 1, 1, 1, 0]),\n",
       " array([0, 0, 1, 0, 0, 1, 0, 0, 1, 1]),\n",
       " array([0, 1, 1, 0, 1, 0, 0, 0, 1, 1]),\n",
       " array([1, 0, 1, 0, 1, 1, 0, 0, 0, 0]),\n",
       " array([1, 0, 0, 0, 1, 0, 1, 1, 1, 0]),\n",
       " array([0, 1, 0, 0, 1, 1, 0, 1, 0, 1]),\n",
       " array([0, 1, 1, 1, 0, 1, 0, 0, 1, 0]),\n",
       " array([0, 0, 0, 1, 1, 1, 0, 0, 1, 0]),\n",
       " array([0, 1, 1, 0, 0, 1, 0, 1, 1, 1]),\n",
       " array([0, 0, 0, 0, 1, 1, 1, 1, 1, 0]),\n",
       " array([1, 1, 1, 0, 1, 1, 1, 0, 1, 1]),\n",
       " array([0, 1, 0, 1, 1, 1, 1, 0, 0, 1]),\n",
       " array([0, 1, 0, 0, 1, 1, 0, 1, 0, 1]),\n",
       " array([0, 0, 1, 0, 1, 0, 0, 1, 1, 0]),\n",
       " array([0, 0, 0, 0, 1, 0, 1, 0, 0, 1]),\n",
       " array([0, 0, 1, 1, 0, 0, 0, 0, 1, 1]),\n",
       " array([0, 0, 0, 0, 1, 1, 1, 0, 0, 0]),\n",
       " array([0, 1, 1, 1, 1, 0, 0, 0, 1, 0]),\n",
       " array([0, 1, 1, 0, 0, 0, 0, 0, 0, 1]),\n",
       " array([1, 1, 0, 0, 1, 0, 0, 0, 0, 1]),\n",
       " array([0, 1, 0, 1, 1, 1, 1, 1, 0, 1]),\n",
       " array([0, 0, 1, 0, 0, 1, 0, 0, 0, 1]),\n",
       " array([0, 1, 0, 0, 0, 1, 0, 0, 0, 1]),\n",
       " array([1, 0, 1, 1, 1, 0, 1, 1, 0, 1]),\n",
       " array([0, 0, 1, 0, 0, 0, 0, 0, 0, 1]),\n",
       " array([0, 1, 0, 1, 0, 1, 0, 1, 1, 1]),\n",
       " array([1, 0, 1, 0, 1, 1, 0, 0, 0, 0]),\n",
       " array([1, 1, 0, 1, 0, 0, 0, 1, 0, 1]),\n",
       " array([0, 0, 1, 0, 0, 0, 0, 1, 0, 1]),\n",
       " array([1, 0, 0, 0, 1, 0, 0, 0, 1, 1]),\n",
       " array([0, 1, 1, 1, 0, 1, 1, 1, 1, 1]),\n",
       " array([1, 1, 0, 1, 1, 1, 1, 1, 1, 0]),\n",
       " array([1, 0, 1, 0, 0, 0, 0, 0, 1, 0]),\n",
       " array([1, 1, 0, 1, 0, 0, 1, 1, 1, 0]),\n",
       " array([0, 1, 1, 1, 1, 0, 1, 1, 1, 0])]"
      ]
     },
     "execution_count": 150,
     "metadata": {},
     "output_type": "execute_result"
    }
   ],
   "source": [
    "#Wine 데이터셋의 Features 는 13개 \n",
    "num_population = 50 # 초기 population 인구 지정 \n",
    "\n",
    "population = [np.random.randint(0,2,num_features) for _ in range(num_population)]\n",
    "population"
   ]
  },
  {
   "cell_type": "markdown",
   "metadata": {},
   "source": [
    "# Step 2 : Model Fitting \n",
    "- 1에서 생성된 population의 각 Chromosome을 이용하여 모델을 학습 및 평가 진행 "
   ]
  },
  {
   "cell_type": "code",
   "execution_count": 123,
   "metadata": {},
   "outputs": [],
   "source": [
    "#population에서 유전자 선택 \n",
    "chromosome = population[0]\n",
    "\n",
    "#유전자로 Feature 선택 \n",
    "def feature_selection(chromosome):\n",
    "    return features[np.where(chromosome)[0]]\n",
    "    \n",
    "#선택된 Feature로 x 데이터 생성 \n",
    "selected_features = feature_selection(chromosome)\n",
    "\n",
    "def selected_dataset(selected_features):\n",
    "    X = df[selected_features].values\n",
    "    Y = df['class'].values.reshape(-1,1)\n",
    "\n",
    "    #Train - Test 데이터셋 분리 \n",
    "  \n",
    "    train_x,test_x,train_y,test_y = train_test_split(X,Y,test_size=0.2,random_state=42,shuffle=True)\n",
    "    return [train_x,test_x,train_y,test_y]\n",
    "\n",
    "#평가할 모델 생성, 학습, 평가 진행 \n",
    "#평가는 R^2를 사용 \n",
    "from sklearn.linear_model import LinearRegression\n",
    "def model_scoring(datasets):\n",
    "    [train_x,test_x,train_y,test_y] = datasets\n",
    "    model = LinearRegression()\n",
    "    model.fit(train_x,train_y)\n",
    "    score = model.score(test_x,test_y)\n",
    "    return score "
   ]
  },
  {
   "cell_type": "markdown",
   "metadata": {},
   "source": [
    "위 과정을 모든 Chromosome에 대하여 진행 "
   ]
  },
  {
   "cell_type": "code",
   "execution_count": 151,
   "metadata": {},
   "outputs": [],
   "source": [
    "score_list = [] \n",
    "for chromosome in population:\n",
    "    selected_features = feature_selection(chromosome)\n",
    "    datasets = selected_dataset(selected_features)\n",
    "    score = model_scoring(datasets)\n",
    "    score_list.append(score)"
   ]
  },
  {
   "cell_type": "markdown",
   "metadata": {},
   "source": [
    "# Step 4: 우수 염색체 선택 \n",
    "- Score가 우수한 염색체를 선택하여 부모 세대로 명명 \n",
    "- 선택 된 부모 세대를 통해 교배 및 돌연변이 생성 가능 \n",
    "- 선택 된 방법은 상위 x%를 선택하거나 확률적으로 Score의 %에 따라 랜덤하게 선택 가능 "
   ]
  },
  {
   "cell_type": "code",
   "execution_count": 152,
   "metadata": {},
   "outputs": [],
   "source": [
    "selected_ratio = 0.4\n",
    "\n",
    "ratio_selected_for_parent = int(np.round(num_population)*selected_ratio)\n",
    "\n",
    "parent_chromosome_index = pd.Series(score_list).sort_values(ascending=False).index[:ratio_selected_for_parent]\n",
    "\n",
    "parent_chromosome = np.array(population)[parent_chromosome_index]"
   ]
  },
  {
   "cell_type": "markdown",
   "metadata": {},
   "source": [
    "# Step 5: Crossover & Mutation \n",
    "- 유전자 교배 및 돌연변이를 생성하여 새로운 population 생성 \n",
    "\n",
    "Crossover \n",
    "- Candidate Population에서 random 하게 2개의 부모 선택 \n",
    "- 선택된 부모 Chromosome들을 2개 선택 해 각각의 유전자 정보를 교환한다. "
   ]
  },
  {
   "cell_type": "code",
   "execution_count": 241,
   "metadata": {},
   "outputs": [
    {
     "name": "stdout",
     "output_type": "stream",
     "text": [
      "    0  1  2  3  4  5  6  7  8  9\n",
      "6   0  1  0  1  1  1  1  0  0  1\n",
      "13  1  0  1  0  0  0  0  0  1  0\n"
     ]
    }
   ],
   "source": [
    "def crossover_index(selected_parents):\n",
    "    prob = np.random.random_sample(num_features)\n",
    "    parent_1_index = np.round(prob)\n",
    "    parent_2_index = np.abs(parent_1_index-1)\n",
    "    child_1_index = selected_parents.iloc[0,:].values*parent_1_index + selected_parents.iloc[1,:].values*parent_2_index\n",
    "    child_2_index = selected_parents.iloc[1,:].values*parent_1_index + selected_parents.iloc[0,:].values*parent_2_index\n",
    "    return child_1_index, child_2_index \n",
    "\n",
    "num_parents =2 \n",
    "selected_parents = pd.DataFrame(parent_chromosome).sample(num_parents)\n",
    "child_1,child_2 = crossover_index(selected_parents)\n",
    "print(selected_parents)"
   ]
  },
  {
   "cell_type": "code",
   "execution_count": 252,
   "metadata": {},
   "outputs": [
    {
     "name": "stdout",
     "output_type": "stream",
     "text": [
      "                  0         1         2         3         4         5  \\\n",
      "6          0.000000  1.000000  0.000000  1.000000  1.000000  1.000000   \n",
      "13         1.000000  0.000000  1.000000  0.000000  0.000000  0.000000   \n",
      "Unnamed 0  0.362088  0.380878  0.695685  0.157083  0.022695  0.199793   \n",
      "\n",
      "                 6         7         8        9  \n",
      "6          1.00000  0.000000  0.000000  1.00000  \n",
      "13         0.00000  0.000000  1.000000  0.00000  \n",
      "Unnamed 0  0.32432  0.296837  0.270262  0.96095  \n"
     ]
    }
   ],
   "source": [
    "print(pd.DataFrame([selected_parents.iloc[0,:],selected_parents.iloc[1,:],prob]))"
   ]
  },
  {
   "cell_type": "code",
   "execution_count": 253,
   "metadata": {},
   "outputs": [
    {
     "name": "stdout",
     "output_type": "stream",
     "text": [
      "     0    1    2    3    4    5    6    7    8    9\n",
      "0  1.0  0.0  0.0  0.0  0.0  0.0  0.0  0.0  1.0  1.0\n",
      "1  0.0  1.0  1.0  1.0  1.0  1.0  1.0  0.0  0.0  0.0\n"
     ]
    }
   ],
   "source": [
    "print(pd.DataFrame([child_1,child_2]))"
   ]
  },
  {
   "cell_type": "markdown",
   "metadata": {},
   "source": [
    "Mutation \n",
    "- 2개의 Child Chromosome에 대하여 random하게 값을 Flip \n",
    "- Crossover 처럼 random 값을 부여한 뒤 \n",
    "- hyperparmeter Threshold값에 의해 Mutation 진행 "
   ]
  },
  {
   "cell_type": "code",
   "execution_count": 294,
   "metadata": {},
   "outputs": [],
   "source": [
    "\n",
    "\n",
    "def mutant(child)\n",
    "    prob = np.random.random_sample(num_features)\n",
    "    mutant = pd.Series(prob).apply(lambda x : Thresholding(x) ).values        \n",
    "    child = np.abs(child +mutant-1)\n",
    "    return child \n",
    "\n",
    "child_1 = mutant(child_1)\n",
    "child_2 = mutant(child_2)"
   ]
  },
  {
   "cell_type": "code",
   "execution_count": 300,
   "metadata": {},
   "outputs": [
    {
     "data": {
      "text/plain": [
       "[0.2819370237331775, 0.3205616715875692]"
      ]
     },
     "execution_count": 300,
     "metadata": {},
     "output_type": "execute_result"
    }
   ],
   "source": [
    "score_list = [] \n",
    "for chromosome in [child_1,child_2]:\n",
    "    selected_features = feature_selection(chromosome)\n",
    "    datasets = selected_dataset(selected_features)\n",
    "    score = model_scoring(datasets)\n",
    "    score_list.append(score)\n",
    "score_list    "
   ]
  },
  {
   "cell_type": "markdown",
   "metadata": {},
   "source": [
    "# step 6: Final step : Generation 반복 \n",
    "- 최적의 변수를 찾기 위해서 여러 Generation에 거쳐 2~5반복 작업 진행 "
   ]
  },
  {
   "cell_type": "code",
   "execution_count": 319,
   "metadata": {},
   "outputs": [],
   "source": [
    "from sklearn.model_selection import train_test_split\n",
    "class Genetic_algorithm:\n",
    "    def __init__(self,df,num_population,selected_ratio,mutant_prob):\n",
    "        self.df = df \n",
    "        self.features = df.drop(columns='class').columns\n",
    "        self.num_features = len(self.features)\n",
    "        #Hyper parameter \n",
    "        self.num_population = num_population\n",
    "        self.selected_ratio = selected_ratio\n",
    "        self.mutant_prob = mutant_prob\n",
    "        \n",
    "\n",
    "    def feature_selection(self,chromosome):\n",
    "        return self.features[np.where(chromosome)[0]]\n",
    "\n",
    "    def selected_dataset(self,selected_features):\n",
    "        X = self.df[selected_features].values\n",
    "        Y = self.df['class'].values.reshape(-1,1)\n",
    "\n",
    "        #Train - Test 데이터셋 분리 \n",
    "        train_x,test_x,train_y,test_y = train_test_split(X,Y,test_size=0.2,random_state=42,shuffle=True)\n",
    "        return [train_x,test_x,train_y,test_y]\n",
    "\n",
    "    def model_scroing(self,datasets):\n",
    "        [train_x,test_x,train_y,test_y] = datasets\n",
    "        self.train_x = train_x \n",
    "        self.train_y = train_y \n",
    "        model = LinearRegression()\n",
    "        model.fit(train_x,train_y)\n",
    "        score = model.score(test_x,test_y)\n",
    "        return score \n",
    "\n",
    "    def step_2_population_eval(self,population):\n",
    "        score_list = [] \n",
    "        for chromosome in population:\n",
    "            selected_features = self.feature_selection(chromosome)\n",
    "            datasets = self.selected_dataset(selected_features)\n",
    "            score = model_scoring(datasets)\n",
    "            score_list.append(score)\n",
    "        return np.array(score_list)\n",
    "\n",
    "    def step_4(self,score_list):\n",
    "        ratio_selected_for_parent = int(np.round(self.num_population)*self.selected_ratio)\n",
    "\n",
    "        parent_chromosome_index = pd.Series(score_list).sort_values(ascending=False).index[:ratio_selected_for_parent]\n",
    "\n",
    "        parent_chromosome = np.array(self.population)[parent_chromosome_index]\n",
    "        return parent_chromosome\n",
    "\n",
    "    def step_5_crossover(self,selected_parents):\n",
    "        prob = np.random.random_sample(self.num_features)\n",
    "        parent_1_index = np.round(prob)\n",
    "        parent_2_index = np.abs(parent_1_index-1)\n",
    "        child_1_index = selected_parents.iloc[0,:].values*parent_1_index + selected_parents.iloc[1,:].values*parent_2_index\n",
    "        child_2_index = selected_parents.iloc[1,:].values*parent_1_index + selected_parents.iloc[0,:].values*parent_2_index\n",
    "        return child_1_index, child_2_index \n",
    "    \n",
    "    def step_5_mutant(self,child):\n",
    "\n",
    "        def Thresholding(x):\n",
    "            Threshold = self.mutant_prob\n",
    "            if x >= Threshold:\n",
    "                x = 1 \n",
    "            if x < Threshold:\n",
    "                x = 0 \n",
    "            return x \n",
    "\n",
    "        prob = np.random.random_sample(self.num_features)\n",
    "        mutant = pd.Series(prob).apply(lambda x : Thresholding(x) ).values        \n",
    "        child = np.abs(child +mutant-1)\n",
    "        return child \n",
    "\n",
    "    def __call__(self,Generation):\n",
    "        best_generation = []\n",
    "        for g in range(Generation):\n",
    "        #step 1 : 초기 Population init \n",
    "            self.population = [np.random.randint(0,2,self.num_features) for _ in range(self.num_population)]\n",
    "        #step 2,3 : 초기 Population들 각각 평가 \n",
    "            score_list = self.step_2_population_eval(self.population)\n",
    "        #step 4  : 상위 우수 인자 분별 \n",
    "            parent_chromosome = self.step_4(score_list)\n",
    "        #step 5 : 부모 선택 및 교배, 돌연변이 \n",
    "            #부모 선택 \n",
    "            num_parents =2 \n",
    "            selected_parents = pd.DataFrame(parent_chromosome).sample(num_parents)\n",
    "            #corssover \n",
    "            child_1, child_2 = self.step_5_crossover(selected_parents)\n",
    "            #Mutant         \n",
    "            child_1 = self.step_5_mutant(child_1)\n",
    "            child_2 = self.step_5_mutant(child_2)\n",
    "\n",
    "            score_list = [] \n",
    "            for chromosome in [child_1,child_2]:\n",
    "                try:\n",
    "                    selected_features = self.feature_selection(chromosome)\n",
    "                    datasets = self.selected_dataset(selected_features)\n",
    "                    score = model_scoring(datasets)\n",
    "                    score_list.append(score)\n",
    "                except:\n",
    "                    pass \n",
    "            \n",
    "            best_child = np.argmax(score_list)\n",
    "            best_score = score_list[best_child]\n",
    "            if g == 0:\n",
    "                Survived_child = [child_1,child_2][best_child]\n",
    "                Survived_score = best_score \n",
    "            else: \n",
    "                if Survived_score < best_score:\n",
    "                    Survived_child = [child_1,child_2][best_child]\n",
    "                    Survived_score = best_score \n",
    "        return Survived_child,Survived_score"
   ]
  },
  {
   "cell_type": "code",
   "execution_count": 330,
   "metadata": {},
   "outputs": [
    {
     "name": "stdout",
     "output_type": "stream",
     "text": [
      "best score = 0.3777644684752962\n",
      "best Features = ['sex' 'bp' 's1' 's3' 's4' 's6']\n"
     ]
    }
   ],
   "source": [
    "num_population = 50 \n",
    "selected_ratio = 0.4 \n",
    "num_generation = 20\n",
    "mutant_prob = 0.2\n",
    "ga =  Genetic_algorithm(df,num_population,selected_ratio,mutant_prob)\n",
    "best_child, best_score = ga(num_generation)\n",
    "\n",
    "print(f'best score = {best_score}')\n",
    "print(f'best Features = {feature_selection(best_child)}')"
   ]
  }
 ],
 "metadata": {
  "kernelspec": {
   "display_name": "Python 3 (ipykernel)",
   "language": "python",
   "name": "python3"
  },
  "language_info": {
   "codemirror_mode": {
    "name": "ipython",
    "version": 3
   },
   "file_extension": ".py",
   "mimetype": "text/x-python",
   "name": "python",
   "nbconvert_exporter": "python",
   "pygments_lexer": "ipython3",
   "version": "3.9.12"
  },
  "orig_nbformat": 4,
  "vscode": {
   "interpreter": {
    "hash": "9b4a666a3140e696faf634e3cbfbedada3b99a8ffe9c30d675d10e862f673a60"
   }
  }
 },
 "nbformat": 4,
 "nbformat_minor": 2
}
