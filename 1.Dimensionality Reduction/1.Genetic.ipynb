{
 "cells": [
  {
   "cell_type": "code",
   "execution_count": null,
   "metadata": {},
   "outputs": [],
   "source": []
  }
 ],
 "metadata": {
  "kernelspec": {
   "display_name": "Python 3 (ipykernel)",
   "language": "python",
   "name": "python3"
  },
  "orig_nbformat": 4,
  "vscode": {
   "interpreter": {
    "hash": "9b4a666a3140e696faf634e3cbfbedada3b99a8ffe9c30d675d10e862f673a60"
   }
  }
 },
 "nbformat": 4,
 "nbformat_minor": 2
}
