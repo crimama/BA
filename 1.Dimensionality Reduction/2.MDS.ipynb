{
 "cells": [
  {
   "cell_type": "markdown",
   "metadata": {},
   "source": [
    "# Multi-Dimensional Scaling (MDS) 란? \n",
    "- MDS는 객체 셋 간의 비유사도 또는 거리를 표현하는 시각화 방법 \n",
    "- 여기서 객체란 색깔, 얼굴, 지도, 정치적 성향 등이 가능 \n",
    "- MDS는 차이를 그래프의 거리로 해석할 뿐만 아니라 고차원 데이터에 대한 차원 축소 기법으로도 사용 가능 \n",
    "- MDS의 주요 목적은 축소된 차원에서 기존차원에서의 거리, 비유사성을 최대한 유지하는 것 \n",
    "- Distance는 유클리디안 거리를 기본적으로 사용 \n"
   ]
  },
  {
   "cell_type": "markdown",
   "metadata": {},
   "source": [
    "# 1. 간단한 예시 \n",
    "- 각 도시별 거리 "
   ]
  },
  {
   "cell_type": "code",
   "execution_count": 2,
   "metadata": {},
   "outputs": [
    {
     "data": {
      "text/html": [
       "<div>\n",
       "<style scoped>\n",
       "    .dataframe tbody tr th:only-of-type {\n",
       "        vertical-align: middle;\n",
       "    }\n",
       "\n",
       "    .dataframe tbody tr th {\n",
       "        vertical-align: top;\n",
       "    }\n",
       "\n",
       "    .dataframe thead th {\n",
       "        text-align: right;\n",
       "    }\n",
       "</style>\n",
       "<table border=\"1\" class=\"dataframe\">\n",
       "  <thead>\n",
       "    <tr style=\"text-align: right;\">\n",
       "      <th></th>\n",
       "      <th>Istanbul</th>\n",
       "      <th>Ankara</th>\n",
       "      <th>Izmir</th>\n",
       "      <th>Denizli</th>\n",
       "      <th>Antalya</th>\n",
       "      <th>Erzurum</th>\n",
       "    </tr>\n",
       "  </thead>\n",
       "  <tbody>\n",
       "    <tr>\n",
       "      <th>Istanbul</th>\n",
       "      <td>0</td>\n",
       "      <td>350</td>\n",
       "      <td>329</td>\n",
       "      <td>360</td>\n",
       "      <td>483</td>\n",
       "      <td>1048</td>\n",
       "    </tr>\n",
       "    <tr>\n",
       "      <th>Ankara</th>\n",
       "      <td>350</td>\n",
       "      <td>0</td>\n",
       "      <td>522</td>\n",
       "      <td>405</td>\n",
       "      <td>387</td>\n",
       "      <td>719</td>\n",
       "    </tr>\n",
       "    <tr>\n",
       "      <th>Izmir</th>\n",
       "      <td>329</td>\n",
       "      <td>522</td>\n",
       "      <td>0</td>\n",
       "      <td>186</td>\n",
       "      <td>359</td>\n",
       "      <td>1231</td>\n",
       "    </tr>\n",
       "    <tr>\n",
       "      <th>Denizli</th>\n",
       "      <td>360</td>\n",
       "      <td>405</td>\n",
       "      <td>186</td>\n",
       "      <td>0</td>\n",
       "      <td>174</td>\n",
       "      <td>1082</td>\n",
       "    </tr>\n",
       "    <tr>\n",
       "      <th>Antalya</th>\n",
       "      <td>483</td>\n",
       "      <td>387</td>\n",
       "      <td>359</td>\n",
       "      <td>174</td>\n",
       "      <td>0</td>\n",
       "      <td>981</td>\n",
       "    </tr>\n",
       "    <tr>\n",
       "      <th>Erzurum</th>\n",
       "      <td>1048</td>\n",
       "      <td>719</td>\n",
       "      <td>1231</td>\n",
       "      <td>1082</td>\n",
       "      <td>981</td>\n",
       "      <td>0</td>\n",
       "    </tr>\n",
       "  </tbody>\n",
       "</table>\n",
       "</div>"
      ],
      "text/plain": [
       "          Istanbul  Ankara  Izmir  Denizli  Antalya  Erzurum\n",
       "Istanbul         0     350    329      360      483     1048\n",
       "Ankara         350       0    522      405      387      719\n",
       "Izmir          329     522      0      186      359     1231\n",
       "Denizli        360     405    186        0      174     1082\n",
       "Antalya        483     387    359      174        0      981\n",
       "Erzurum       1048     719   1231     1082      981        0"
      ]
     },
     "execution_count": 2,
     "metadata": {},
     "output_type": "execute_result"
    }
   ],
   "source": [
    "import numpy as np\n",
    "import pandas as pd\n",
    "import matplotlib.pyplot as plt\n",
    "\n",
    "cities = {'Istanbul':[0,350,329,360,483,1048],\n",
    "          'Ankara':[350,0,522,405,387,719],\n",
    "          'Izmir':[329,522,0,186,359,1231],\n",
    "          'Denizli':[360,405,186,0,174,1082],\n",
    "          'Antalya':[483,387,359,174,0,981],\n",
    "          'Erzurum':[1048,719,1231,1082,981,0],\n",
    "          }\n",
    "df = pd.DataFrame(cities, index =['Istanbul','Ankara','Izmir','Denizli','Antalya','Erzurum'])\n",
    "df"
   ]
  },
  {
   "cell_type": "code",
   "execution_count": 1,
   "metadata": {},
   "outputs": [
    {
     "name": "stderr",
     "output_type": "stream",
     "text": [
      "c:\\Users\\dags8\\anaconda3\\lib\\site-packages\\sklearn\\manifold\\_mds.py:517: UserWarning: The MDS API has changed. ``fit`` now constructs an dissimilarity matrix from data. To use a custom dissimilarity matrix, set ``dissimilarity='precomputed'``.\n",
      "  warnings.warn(\n"
     ]
    },
    {
     "data": {
      "image/png": "[encoded data removed]",
      "text/plain": [
       "<Figure size 720x432 with 1 Axes>"
      ]
     },
     "metadata": {
      "needs_background": "light"
     },
     "output_type": "display_data"
    },
    {
     "name": "stdout",
     "output_type": "stream",
     "text": [
      "0.18516877484412345\n"
     ]
    }
   ],
   "source": [
    "\n",
    "from sklearn.preprocessing import MinMaxScaler\n",
    "scaler = MinMaxScaler()\n",
    "x_scaled = scaler.fit_transform(df)\n",
    "\n",
    "\n",
    "from sklearn.manifold import MDS\n",
    "mds_sklearn = MDS(n_components=2)\n",
    "x_sklearn = mds_sklearn.fit_transform(x_scaled)\n",
    "cities = ['Istanbul','Ankara','Izmir','Denizli','Antalya','Erzurum']\n",
    "\n",
    "plt.figure(figsize=(10,6))\n",
    "plt.scatter(x_sklearn[:,0],x_sklearn[:,1])\n",
    "plt.title('MDS with Sklearn')\n",
    "for label, x, y in zip(cities, x_sklearn[:, 0], x_sklearn[:, 1]):\n",
    "    plt.annotate(\n",
    "        label,\n",
    "        xy = (x, y), \n",
    "        xytext = (-10, 10),\n",
    "        textcoords = 'offset points'\n",
    "    )\n",
    "plt.show()\n",
    "print(mds_sklearn.stress_)"
   ]
  },
  {
   "cell_type": "markdown",
   "metadata": {},
   "source": [
    "시각화를 통해 도시 별로 가깝고 먼 곳을 한 눈에 볼 수 있다. "
   ]
  },
  {
   "cell_type": "code",
   "execution_count": null,
   "metadata": {},
   "outputs": [],
   "source": []
  }
 ],
 "metadata": {
  "kernelspec": {
   "display_name": "Python 3.9.12 ('base')",
   "language": "python",
   "name": "python3"
  },
  "language_info": {
   "codemirror_mode": {
    "name": "ipython",
    "version": 3
   },
   "file_extension": ".py",
   "mimetype": "text/x-python",
   "name": "python",
   "nbconvert_exporter": "python",
   "pygments_lexer": "ipython3",
   "version": "3.9.12"
  },
  "orig_nbformat": 4,
  "vscode": {
   "interpreter": {
    "hash": "9b4a666a3140e696faf634e3cbfbedada3b99a8ffe9c30d675d10e862f673a60"
   }
  }
 },
 "nbformat": 4,
 "nbformat_minor": 2
}
