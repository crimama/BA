{
 "cells": [
  {
   "cell_type": "code",
   "execution_count": 18,
   "metadata": {},
   "outputs": [],
   "source": [
    "class SVM:\n",
    "  def __init__(self, kernel='linear', C=10000.0, max_iter=100000, degree=3, gamma=1):\n",
    "    self.kernel = {'poly'  : lambda x,y: np.dot(x, y.T)**degree,\n",
    "                   'rbf'   : lambda x,y: np.exp(-gamma*np.sum((y - x[:,np.newaxis])**2, axis=-1)),\n",
    "                   'linear': lambda x,y: np.dot(x, y.T)}[kernel]\n",
    "    self.C = C\n",
    "    self.max_iter = max_iter\n",
    "\n",
    "  def restrict_to_square(self, t, v0, u):\n",
    "    t = (np.clip(v0 + t*u, 0, self.C) - v0)[1]/u[1]\n",
    "    return (np.clip(v0 + t*u, 0, self.C) - v0)[0]/u[0]\n",
    "\n",
    "  def fit(self, X, y):\n",
    "    self.X = X.copy()\n",
    "    self.y = y * 2 - 1\n",
    "    self.lambdas = np.zeros_like(self.y, dtype=float) #(rows,1)\n",
    "    self.K = self.kernel(self.X, self.X) * self.y[:,np.newaxis] * self.y\n",
    "    \n",
    "    for _ in tqdm(range(self.max_iter)):\n",
    "      for idxM in range(len(self.lambdas)):\n",
    "        idxL = np.random.randint(0, len(self.lambdas))\n",
    "        Q = self.K[[[idxM, idxM], [idxL, idxL]], [[idxM, idxL], [idxM, idxL]]]\n",
    "        v0 = self.lambdas[[idxM, idxL]]\n",
    "        k0 = 1 - np.sum(self.lambdas * self.K[[idxM, idxL]], axis=1)\n",
    "        u = np.array([-self.y[idxL], self.y[idxM]])\n",
    "        t_max = np.dot(k0, u) / (np.dot(np.dot(Q, u), u) + 1E-15)\n",
    "        self.lambdas[[idxM, idxL]] = v0 + u * self.restrict_to_square(t_max, v0, u)\n",
    "    \n",
    "    idx, = np.nonzero(self.lambdas > 1E-15)\n",
    "    self.b = np.mean((1.0 - np.sum(self.K[idx] * self.lambdas, axis=1)) * self.y[idx])\n",
    "  \n",
    "  def decision_function(self, X):\n",
    "    return np.sum(self.kernel(X, self.X) * self.y * self.lambdas, axis=1) + self.b\n",
    "\n",
    "  def predict(self, X):\n",
    "    return (np.sign(self.decision_function(X)) + 1) // 2"
   ]
  },
  {
   "cell_type": "markdown",
   "metadata": {},
   "source": [
    "# Scartch "
   ]
  },
  {
   "cell_type": "code",
   "execution_count": 1,
   "metadata": {},
   "outputs": [
    {
     "name": "stderr",
     "output_type": "stream",
     "text": [
      "/usr/local/lib/python3.8/dist-packages/tqdm/auto.py:22: TqdmWarning: IProgress not found. Please update jupyter and ipywidgets. See https://ipywidgets.readthedocs.io/en/stable/user_install.html\n",
      "  from .autonotebook import tqdm as notebook_tqdm\n"
     ]
    }
   ],
   "source": [
    "import pandas as pd \n",
    "import numpy as np \n",
    "import torch \n",
    "import matplotlib.pyplot as plt \n",
    "import sklearn \n",
    "import seaborn as sns \n",
    "import os \n",
    "from tqdm import tqdm \n",
    "from glob import glob \n",
    "import warnings\n",
    "warnings.filterwarnings(action='ignore')\n",
    "from sklearn.manifold import MDS"
   ]
  },
  {
   "cell_type": "markdown",
   "metadata": {},
   "source": [
    "## 데이터 로드 "
   ]
  },
  {
   "cell_type": "code",
   "execution_count": 7,
   "metadata": {},
   "outputs": [],
   "source": [
    "from sklearn.datasets import load_digits,load_wine\n",
    "#데이터 로드 \n",
    "data = load_wine() \n",
    "df = pd.DataFrame(data.data)\n",
    "df.columns = data['feature_names']\n",
    "df['class'] = data['target']\n",
    "df = df.sample(frac=1,random_state=42).reset_index(drop=True) #shuffle "
   ]
  },
  {
   "cell_type": "markdown",
   "metadata": {},
   "source": [
    "## 데이터 전처리 "
   ]
  },
  {
   "cell_type": "code",
   "execution_count": 8,
   "metadata": {},
   "outputs": [
    {
     "data": {
      "text/plain": [
       "0"
      ]
     },
     "execution_count": 8,
     "metadata": {},
     "output_type": "execute_result"
    }
   ],
   "source": [
    "# 결측치 확인 \n",
    "df.isnull().sum().sum()"
   ]
  },
  {
   "cell_type": "code",
   "execution_count": 9,
   "metadata": {},
   "outputs": [],
   "source": [
    "#정규화 \n",
    "from sklearn.preprocessing import Normalizer\n",
    "\n",
    "normalizer = Normalizer()\n",
    "normalized_df = pd.DataFrame(normalizer.fit_transform(df))\n",
    "normalized_df.columns = df.columns\n",
    "normalized_df['class'] = df['class']"
   ]
  },
  {
   "cell_type": "code",
   "execution_count": 11,
   "metadata": {},
   "outputs": [],
   "source": [
    "#Train - Test 분리 \n",
    "n_train = int(len(df)*0.8)\n",
    "train_x = np.array(df.iloc[:n_train].drop(columns='class'))\n",
    "train_y = np.array(df.iloc[:n_train]['class'])\n",
    "\n",
    "valid_x = np.array(df.iloc[n_train:].drop(columns='class'))\n",
    "valid_y = np.array(df.iloc[n_train:]['class'])"
   ]
  },
  {
   "cell_type": "markdown",
   "metadata": {},
   "source": [
    "## 모델 \n",
    "- 커널 함수로 rbf 커널 함수 사용 \n",
    "\n",
    "$K(x,y) = exp(-{||x-y||^2 \\over 2\\sigma^2})$"
   ]
  },
  {
   "cell_type": "code",
   "execution_count": null,
   "metadata": {},
   "outputs": [],
   "source": [
    "#하이퍼 파라미터 설정 \n",
    "class cfg:\n",
    "    c = 10000\n",
    "    max_iter = 100000\n",
    "    gamma =1 \n",
    "\n",
    "#커널 함수 정의 \n",
    "def kernel(x,y):\n",
    "    gamma = 1 \n",
    "    return np.exp(-gamma*np.sum((y - x[:,np.newaxis])**2, axis=-1))\n",
    "\n",
    "def restrict_to_square(t, v0, u):\n",
    "    C = 10000\n",
    "    t = (np.clip(v0 + t*u, 0, C) - v0)[1]/u[1]\n",
    "    return (np.clip(v0 + t*u, 0, C) - v0)[0]/u[0]\n",
    "\n",
    "# 모델 학습 \n",
    "x = train_x \n",
    "y = train_y \n",
    "\n",
    "weight = np.zeros_like(y,dtype=float) #찾고자 하는 function의 \n",
    "k = kernel(x,x) * y[:,np.newaxis]*y  #내적값을 구하기 위해 커널값 사용 \n",
    "\n",
    "for i in tqdm(range(cfg.max_iter)):\n",
    "    for idxM in range(len(lambdas)):\n",
    "        idxL = np.random.randint(0,len(lambdas))\n",
    "\n",
    "        Q = k[[[idxM,idxM],[idxL,idxL]],[[idxM,idxL],[idxM,idxL]]]\n",
    "\n",
    "        v0 = lambdas[[idxM,idxL]]\n",
    "\n",
    "        k0 = 1-np.sum(lambdas * k[[idxM,idxL]],axis=1)\n",
    "\n",
    "        u = np.array([-y[idxL],y[idxM]])\n",
    "\n",
    "        t_max = np.dot(k0,u) / (np.dot(np.dot(Q,u), u) + 1e-15)\n",
    "        \n",
    "        lambdas[[idxM,idxL]] = v0 + u * restrict_to_square(t_max,v0,u)\n",
    "\n",
    "idx, = np.nonzero(lambdas > 1E-15)\n",
    "b = np.mean((1.0 - np.sum(K[idx] * lambdas, axis=1)) * y[idx]) "
   ]
  },
  {
   "cell_type": "code",
   "execution_count": 32,
   "metadata": {},
   "outputs": [
    {
     "data": {
      "text/plain": [
       "array([-1,  1,  3])"
      ]
     },
     "execution_count": 32,
     "metadata": {},
     "output_type": "execute_result"
    }
   ],
   "source": [
    "np.unique(train_y*2-1)"
   ]
  },
  {
   "cell_type": "code",
   "execution_count": 19,
   "metadata": {},
   "outputs": [
    {
     "name": "stderr",
     "output_type": "stream",
     "text": [
      "  0%|          | 409/100000 [00:05<21:28, 77.30it/s]\n"
     ]
    },
    {
     "ename": "KeyboardInterrupt",
     "evalue": "",
     "output_type": "error",
     "traceback": [
      "\u001b[0;31m---------------------------------------------------------------------------\u001b[0m",
      "\u001b[0;31mKeyboardInterrupt\u001b[0m                         Traceback (most recent call last)",
      "Cell \u001b[0;32mIn [19], line 2\u001b[0m\n\u001b[1;32m      1\u001b[0m svm \u001b[39m=\u001b[39m SVM()\n\u001b[0;32m----> 2\u001b[0m svm\u001b[39m.\u001b[39;49mfit(train_x,train_y)\n",
      "Cell \u001b[0;32mIn [18], line 27\u001b[0m, in \u001b[0;36mSVM.fit\u001b[0;34m(self, X, y)\u001b[0m\n\u001b[1;32m     25\u001b[0m     u \u001b[39m=\u001b[39m np\u001b[39m.\u001b[39marray([\u001b[39m-\u001b[39m\u001b[39mself\u001b[39m\u001b[39m.\u001b[39my[idxL], \u001b[39mself\u001b[39m\u001b[39m.\u001b[39my[idxM]])\n\u001b[1;32m     26\u001b[0m     t_max \u001b[39m=\u001b[39m np\u001b[39m.\u001b[39mdot(k0, u) \u001b[39m/\u001b[39m (np\u001b[39m.\u001b[39mdot(np\u001b[39m.\u001b[39mdot(Q, u), u) \u001b[39m+\u001b[39m \u001b[39m1E-15\u001b[39m)\n\u001b[0;32m---> 27\u001b[0m     \u001b[39mself\u001b[39m\u001b[39m.\u001b[39mlambdas[[idxM, idxL]] \u001b[39m=\u001b[39m v0 \u001b[39m+\u001b[39m u \u001b[39m*\u001b[39m \u001b[39mself\u001b[39;49m\u001b[39m.\u001b[39;49mrestrict_to_square(t_max, v0, u)\n\u001b[1;32m     29\u001b[0m idx, \u001b[39m=\u001b[39m np\u001b[39m.\u001b[39mnonzero(\u001b[39mself\u001b[39m\u001b[39m.\u001b[39mlambdas \u001b[39m>\u001b[39m \u001b[39m1E-15\u001b[39m)\n\u001b[1;32m     30\u001b[0m \u001b[39mself\u001b[39m\u001b[39m.\u001b[39mb \u001b[39m=\u001b[39m np\u001b[39m.\u001b[39mmean((\u001b[39m1.0\u001b[39m \u001b[39m-\u001b[39m np\u001b[39m.\u001b[39msum(\u001b[39mself\u001b[39m\u001b[39m.\u001b[39mK[idx] \u001b[39m*\u001b[39m \u001b[39mself\u001b[39m\u001b[39m.\u001b[39mlambdas, axis\u001b[39m=\u001b[39m\u001b[39m1\u001b[39m)) \u001b[39m*\u001b[39m \u001b[39mself\u001b[39m\u001b[39m.\u001b[39my[idx])\n",
      "Cell \u001b[0;32mIn [18], line 10\u001b[0m, in \u001b[0;36mSVM.restrict_to_square\u001b[0;34m(self, t, v0, u)\u001b[0m\n\u001b[1;32m      9\u001b[0m \u001b[39mdef\u001b[39;00m \u001b[39mrestrict_to_square\u001b[39m(\u001b[39mself\u001b[39m, t, v0, u):\n\u001b[0;32m---> 10\u001b[0m   t \u001b[39m=\u001b[39m (np\u001b[39m.\u001b[39;49mclip(v0 \u001b[39m+\u001b[39;49m t\u001b[39m*\u001b[39;49mu, \u001b[39m0\u001b[39;49m, \u001b[39mself\u001b[39;49m\u001b[39m.\u001b[39;49mC) \u001b[39m-\u001b[39m v0)[\u001b[39m1\u001b[39m]\u001b[39m/\u001b[39mu[\u001b[39m1\u001b[39m]\n\u001b[1;32m     11\u001b[0m   \u001b[39mreturn\u001b[39;00m (np\u001b[39m.\u001b[39mclip(v0 \u001b[39m+\u001b[39m t\u001b[39m*\u001b[39mu, \u001b[39m0\u001b[39m, \u001b[39mself\u001b[39m\u001b[39m.\u001b[39mC) \u001b[39m-\u001b[39m v0)[\u001b[39m0\u001b[39m]\u001b[39m/\u001b[39mu[\u001b[39m0\u001b[39m]\n",
      "File \u001b[0;32m<__array_function__ internals>:180\u001b[0m, in \u001b[0;36mclip\u001b[0;34m(*args, **kwargs)\u001b[0m\n",
      "File \u001b[0;32m/usr/local/lib/python3.8/dist-packages/numpy/core/fromnumeric.py:2152\u001b[0m, in \u001b[0;36mclip\u001b[0;34m(a, a_min, a_max, out, **kwargs)\u001b[0m\n\u001b[1;32m   2083\u001b[0m \u001b[39m@array_function_dispatch\u001b[39m(_clip_dispatcher)\n\u001b[1;32m   2084\u001b[0m \u001b[39mdef\u001b[39;00m \u001b[39mclip\u001b[39m(a, a_min, a_max, out\u001b[39m=\u001b[39m\u001b[39mNone\u001b[39;00m, \u001b[39m*\u001b[39m\u001b[39m*\u001b[39mkwargs):\n\u001b[1;32m   2085\u001b[0m     \u001b[39m\"\"\"\u001b[39;00m\n\u001b[1;32m   2086\u001b[0m \u001b[39m    Clip (limit) the values in an array.\u001b[39;00m\n\u001b[1;32m   2087\u001b[0m \n\u001b[0;32m   (...)\u001b[0m\n\u001b[1;32m   2150\u001b[0m \n\u001b[1;32m   2151\u001b[0m \u001b[39m    \"\"\"\u001b[39;00m\n\u001b[0;32m-> 2152\u001b[0m     \u001b[39mreturn\u001b[39;00m _wrapfunc(a, \u001b[39m'\u001b[39;49m\u001b[39mclip\u001b[39;49m\u001b[39m'\u001b[39;49m, a_min, a_max, out\u001b[39m=\u001b[39;49mout, \u001b[39m*\u001b[39;49m\u001b[39m*\u001b[39;49mkwargs)\n",
      "File \u001b[0;32m/usr/local/lib/python3.8/dist-packages/numpy/core/fromnumeric.py:57\u001b[0m, in \u001b[0;36m_wrapfunc\u001b[0;34m(obj, method, *args, **kwds)\u001b[0m\n\u001b[1;32m     54\u001b[0m     \u001b[39mreturn\u001b[39;00m _wrapit(obj, method, \u001b[39m*\u001b[39margs, \u001b[39m*\u001b[39m\u001b[39m*\u001b[39mkwds)\n\u001b[1;32m     56\u001b[0m \u001b[39mtry\u001b[39;00m:\n\u001b[0;32m---> 57\u001b[0m     \u001b[39mreturn\u001b[39;00m bound(\u001b[39m*\u001b[39;49margs, \u001b[39m*\u001b[39;49m\u001b[39m*\u001b[39;49mkwds)\n\u001b[1;32m     58\u001b[0m \u001b[39mexcept\u001b[39;00m \u001b[39mTypeError\u001b[39;00m:\n\u001b[1;32m     59\u001b[0m     \u001b[39m# A TypeError occurs if the object does have such a method in its\u001b[39;00m\n\u001b[1;32m     60\u001b[0m     \u001b[39m# class, but its signature is not identical to that of NumPy's. This\u001b[39;00m\n\u001b[0;32m   (...)\u001b[0m\n\u001b[1;32m     64\u001b[0m     \u001b[39m# Call _wrapit from within the except clause to ensure a potential\u001b[39;00m\n\u001b[1;32m     65\u001b[0m     \u001b[39m# exception has a traceback chain.\u001b[39;00m\n\u001b[1;32m     66\u001b[0m     \u001b[39mreturn\u001b[39;00m _wrapit(obj, method, \u001b[39m*\u001b[39margs, \u001b[39m*\u001b[39m\u001b[39m*\u001b[39mkwds)\n",
      "File \u001b[0;32m/usr/local/lib/python3.8/dist-packages/numpy/core/_methods.py:137\u001b[0m, in \u001b[0;36m_clip\u001b[0;34m(a, min, max, out, casting, **kwargs)\u001b[0m\n\u001b[1;32m    135\u001b[0m     \u001b[39mmin\u001b[39m \u001b[39m=\u001b[39m \u001b[39m-\u001b[39m\u001b[39mfloat\u001b[39m(\u001b[39m'\u001b[39m\u001b[39minf\u001b[39m\u001b[39m'\u001b[39m)\n\u001b[1;32m    136\u001b[0m     using_deprecated_nan \u001b[39m=\u001b[39m \u001b[39mTrue\u001b[39;00m\n\u001b[0;32m--> 137\u001b[0m \u001b[39mif\u001b[39;00m _clip_dep_is_scalar_nan(\u001b[39mmax\u001b[39;49m):\n\u001b[1;32m    138\u001b[0m     \u001b[39mmax\u001b[39m \u001b[39m=\u001b[39m \u001b[39mfloat\u001b[39m(\u001b[39m'\u001b[39m\u001b[39minf\u001b[39m\u001b[39m'\u001b[39m)\n\u001b[1;32m    139\u001b[0m     using_deprecated_nan \u001b[39m=\u001b[39m \u001b[39mTrue\u001b[39;00m\n",
      "File \u001b[0;32m/usr/local/lib/python3.8/dist-packages/numpy/core/_methods.py:93\u001b[0m, in \u001b[0;36m_clip_dep_is_scalar_nan\u001b[0;34m(a)\u001b[0m\n\u001b[1;32m     91\u001b[0m \u001b[39mdef\u001b[39;00m \u001b[39m_clip_dep_is_scalar_nan\u001b[39m(a):\n\u001b[1;32m     92\u001b[0m     \u001b[39m# guarded to protect circular imports\u001b[39;00m\n\u001b[0;32m---> 93\u001b[0m     \u001b[39mfrom\u001b[39;00m \u001b[39mnumpy\u001b[39;00m\u001b[39m.\u001b[39;00m\u001b[39mcore\u001b[39;00m\u001b[39m.\u001b[39;00m\u001b[39mfromnumeric\u001b[39;00m \u001b[39mimport\u001b[39;00m ndim\n\u001b[1;32m     94\u001b[0m     \u001b[39mif\u001b[39;00m ndim(a) \u001b[39m!=\u001b[39m \u001b[39m0\u001b[39m:\n\u001b[1;32m     95\u001b[0m         \u001b[39mreturn\u001b[39;00m \u001b[39mFalse\u001b[39;00m\n",
      "\u001b[0;31mKeyboardInterrupt\u001b[0m: "
     ]
    }
   ],
   "source": [
    "svm = SVM()\n",
    "svm.fit(train_x,train_y)"
   ]
  },
  {
   "cell_type": "code",
   "execution_count": 29,
   "metadata": {},
   "outputs": [
    {
     "data": {
      "text/plain": [
       "SVC()"
      ]
     },
     "execution_count": 29,
     "metadata": {},
     "output_type": "execute_result"
    }
   ],
   "source": [
    "from sklearn.svm import SVC\n",
    "\n",
    "svm  = SVC()\n",
    "svm.fit(train_x,train_y)\n"
   ]
  }
 ],
 "metadata": {
  "kernelspec": {
   "display_name": "Python 3 (ipykernel)",
   "language": "python",
   "name": "python3"
  },
  "language_info": {
   "codemirror_mode": {
    "name": "ipython",
    "version": 3
   },
   "file_extension": ".py",
   "mimetype": "text/x-python",
   "name": "python",
   "nbconvert_exporter": "python",
   "pygments_lexer": "ipython3",
   "version": "3.8.10"
  },
  "orig_nbformat": 4
 },
 "nbformat": 4,
 "nbformat_minor": 2
}
