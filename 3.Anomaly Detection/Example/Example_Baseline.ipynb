{
 "cells": [
  {
   "cell_type": "markdown",
   "metadata": {},
   "source": [
    "# 전체 학습 과정 "
   ]
  },
  {
   "cell_type": "code",
   "execution_count": 3,
   "metadata": {},
   "outputs": [],
   "source": [
    "import torch.nn as nn \n",
    "import torch \n",
    "import torchvision \n",
    "import cv2 \n",
    "import numpy as np \n",
    "import matplotlib.pyplot as plt \n",
    "from glob import glob \n",
    "import pandas as pd \n",
    "from PIL import Image\n",
    "from tqdm import tqdm \n",
    "import torchvision.transforms as transforms\n",
    "from torch.utils.data import DataLoader,Dataset\n",
    "import os \n",
    "import yaml \n",
    "import json"
   ]
  },
  {
   "cell_type": "markdown",
   "metadata": {},
   "source": [
    "# Configuration "
   ]
  },
  {
   "cell_type": "markdown",
   "metadata": {},
   "source": [
    "# 데이터셋 로드 \n",
    "- 이미지 디렉토리와 라벨 로드 "
   ]
  },
  {
   "cell_type": "code",
   "execution_count": 4,
   "metadata": {},
   "outputs": [],
   "source": [
    "cfg = {\n",
    "'Dataset_dir': './Dataset/hazelnut',\n",
    "'Decription': 'Default',\n",
    "'Epochs': 50,\n",
    "'aug_number': 2,\n",
    "'batch_size': 32,\n",
    "'device': 'cuda:0',\n",
    "'encoded_space_dim': 256,\n",
    "'img_size': 256,\n",
    "'lr': 0.001,\n",
    "'optimizer': 'adamw',\n",
    "'save_dir': 'Contrast',\n",
    "'seed': 42,\n",
    "'target_class': 6,\n",
    "'weight_decay': 1.0e-05,\n",
    "}"
   ]
  },
  {
   "cell_type": "code",
   "execution_count": 5,
   "metadata": {},
   "outputs": [],
   "source": [
    "class Datadir_init:\n",
    "    def __init__(self,Dataset_dir='./Dataset/hazelnut'):\n",
    "        self.Dataset_dir = Dataset_dir \n",
    "        \n",
    "    def test_load(self):\n",
    "        test_label_unique = pd.Series(sorted(glob(f'{self.Dataset_dir}/test/*'))).apply(lambda x : x.split('/')[-1]).values\n",
    "        test_label_unique = {key:value for value,key in enumerate(test_label_unique)}\n",
    "        self.test_label_unique = test_label_unique \n",
    "\n",
    "        test_dir = f'{self.Dataset_dir}/test/'\n",
    "        label = list(test_label_unique.keys())[0]\n",
    "\n",
    "        test_img_dirs = [] \n",
    "        test_img_labels = [] \n",
    "        for label in list(test_label_unique.keys()):\n",
    "            img_dir = sorted(glob(test_dir +f'{label}/*'))\n",
    "            img_label = np.full(len(img_dir),test_label_unique[label])\n",
    "            test_img_dirs.extend(img_dir)\n",
    "            test_img_labels.extend(img_label)\n",
    "        return np.array(test_img_dirs),np.array(test_img_labels) \n",
    "\n",
    "    def train_load(self):\n",
    "        train_img_dirs = sorted(glob(f'{self.Dataset_dir}/train/good/*.png'))\n",
    "        return np.array(train_img_dirs) \n",
    "\n",
    "class MVtecADDataset(Dataset):\n",
    "    def __init__(self,cfg,img_dirs,labels=None,Augmentation=None):\n",
    "        super(MVtecADDataset,self).__init__()\n",
    "        self.cfg = cfg \n",
    "        self.dirs = img_dirs \n",
    "        self.augmentation = self.__init_aug__(Augmentation)\n",
    "        self.labels = self.__init_labels__(labels)\n",
    "\n",
    "    def __len__(self):\n",
    "        return len(self.dirs)\n",
    "\n",
    "    def __init_labels__(self,labels):\n",
    "        if np.sum(labels) !=None:\n",
    "            return labels \n",
    "        else:\n",
    "            return np.zeros(len(self.dirs))\n",
    "    \n",
    "    def __init_aug__(self,Augmentation):\n",
    "        if Augmentation == None:\n",
    "            augmentation = transforms.Compose([\n",
    "                                                transforms.ToTensor(),\n",
    "                                                transforms.Resize((self.cfg['img_size'],self.cfg['img_size']))\n",
    "                                            ])\n",
    "        else: \n",
    "            augmentation = Augmentation \n",
    "        return augmentation                                      \n",
    "\n",
    "    def __getitem__(self,idx):\n",
    "        img_dir = self.dirs[idx]\n",
    "        img = Image.open(img_dir)\n",
    "        img = self.augmentation(img)\n",
    "\n",
    "        if np.sum(self.labels) !=None:\n",
    "            return img,self.labels[idx] \n",
    "        else:\n",
    "            return img\n",
    "\n"
   ]
  },
  {
   "cell_type": "code",
   "execution_count": 6,
   "metadata": {},
   "outputs": [],
   "source": [
    "#이미지 디렉토리 및 라벨 로드 \n",
    "Data_dir = Datadir_init()\n",
    "train_dirs = Data_dir.train_load()\n",
    "test_dirs,test_labels = Data_dir.test_load()\n",
    "\n",
    "#augmentation \n",
    "augmentation = transforms.Compose([\n",
    "                        transforms.ToTensor(),\n",
    "                        transforms.Resize((256,256))\n",
    "    ])    \n",
    "\n",
    "#Train-Valid split \n",
    "indx = int(len(train_dirs)*0.8)\n",
    "train_dset = MVtecADDataset(cfg,train_dirs[:indx],Augmentation=augmentation)\n",
    "valid_dset = MVtecADDataset(cfg,train_dirs[indx:])\n",
    "test_dset = MVtecADDataset(cfg,test_dirs,test_labels)\n",
    "\n",
    "#DataLoader \n",
    "train_loader = DataLoader(train_dset,batch_size=cfg['batch_size'],shuffle=True)\n",
    "valid_loader = DataLoader(valid_dset,batch_size=cfg['batch_size'],shuffle=False)\n",
    "test_loader = DataLoader(test_dset,batch_size=cfg['batch_size'],shuffle=False)"
   ]
  },
  {
   "cell_type": "markdown",
   "metadata": {},
   "source": [
    "# 모델 생성 \n",
    "- Convolution Autoencoder 사용 \n",
    "- Encoder 와 Decoder를 각각 구성한 뒤 Autoencoder 구성 "
   ]
  },
  {
   "cell_type": "code",
   "execution_count": 7,
   "metadata": {},
   "outputs": [],
   "source": [
    "class MVtecEncoder(nn.Module):\n",
    "    def __init__(self,encoded_space_dim):\n",
    "        super(MVtecEncoder,self).__init__()\n",
    "\n",
    "        self.encoder_cnn = nn.Sequential(\n",
    "                                        nn.Conv2d(in_channels=3,out_channels=8,kernel_size=3,stride=2,padding=1),\n",
    "                                        nn.ReLU(),\n",
    "                                        nn.Conv2d(in_channels=8,out_channels=16,kernel_size=3,stride=2,padding=1),\n",
    "                                        nn.BatchNorm2d(16),\n",
    "                                        nn.ReLU(),\n",
    "                                        nn.Conv2d(in_channels=16,out_channels=32,kernel_size=3,stride=2,padding=1),\n",
    "                                        nn.ReLU(),\n",
    "                                        nn.Conv2d(in_channels=32,out_channels=64,kernel_size=3,stride=2,padding=1),\n",
    "                                        nn.ReLU(),\n",
    "                                        nn.Conv2d(in_channels=64,out_channels=128,kernel_size=3,stride=2,padding=1),\n",
    "                                        nn.ReLU()\n",
    ")\n",
    "\n",
    "        self.flatten = nn.Flatten(start_dim=1)\n",
    "        self.encoder_lin = nn.Sequential(\n",
    "                                        nn.Linear(8*8*128,512),\n",
    "                                        nn.ReLU(True),\n",
    "                                        nn.Linear(512,encoded_space_dim)\n",
    "                                        )\n",
    "        \n",
    "\n",
    "    def forward(self,x):\n",
    "        x = self.encoder_cnn(x)\n",
    "        x = self.flatten(x)\n",
    "        x = self.encoder_lin(x)\n",
    "        return x \n",
    "\n",
    "class MVtecDecoder(nn.Module):\n",
    "    def __init__(self,encoded_space_dim):\n",
    "        super(MVtecDecoder,self).__init__()       \n",
    "\n",
    "        self.decoder_lin = nn.Sequential(\n",
    "            nn.Linear(encoded_space_dim,512),\n",
    "            nn.ReLU(True),\n",
    "            nn.Linear(512,7*7*128),\n",
    "            nn.ReLU(True)\n",
    "        )\n",
    "        self.unflatten = nn.Unflatten(dim=1,unflattened_size=(128,7,7))      \n",
    "\n",
    "        self.decoder_cnn = nn.Sequential(\n",
    "                            nn.ConvTranspose2d(128,64,3,stride=2,output_padding=1),\n",
    "                            nn.BatchNorm2d(64),\n",
    "                            nn.ReLU(True),\n",
    "                            nn.ConvTranspose2d(64,32,3,stride=2,padding=1,output_padding=1),\n",
    "                            nn.BatchNorm2d(32),\n",
    "                            nn.ReLU(True),\n",
    "                            nn.ConvTranspose2d(32,16,3,stride=2,padding=1,output_padding=1),\n",
    "                            nn.BatchNorm2d(16),\n",
    "                            nn.ReLU(True),\n",
    "                            nn.ConvTranspose2d(16,8,3,stride=2,padding=1,output_padding=1),\n",
    "                            nn.BatchNorm2d(8),\n",
    "                            nn.ReLU(True),\n",
    "                            nn.ConvTranspose2d(8,3,3,stride=2,padding=1,output_padding=1)\n",
    "        )\n",
    "    def forward(self,x):\n",
    "        x = self.decoder_lin(x)\n",
    "        x = self.unflatten(x)\n",
    "        x = self.decoder_cnn(x)\n",
    "        x = torch.sigmoid(x)\n",
    "        return x     \n",
    "\n",
    "class Convolution_Auto_Encoder(nn.Module):\n",
    "    def __init__(self,Encoder,Decoder,encoded_space_dim ):\n",
    "        super(Convolution_Auto_Encoder,self).__init__()\n",
    "        self.encoder = Encoder(encoded_space_dim)\n",
    "        self.decoder = Decoder(encoded_space_dim)\n",
    "\n",
    "    def forward(self,x):\n",
    "        x = self.encoder(x)\n",
    "        x = self.decoder(x)\n",
    "        return x         "
   ]
  },
  {
   "cell_type": "markdown",
   "metadata": {},
   "source": [
    "# 모델 학습 "
   ]
  },
  {
   "cell_type": "markdown",
   "metadata": {},
   "source": [
    "## 학습 전 선언 "
   ]
  },
  {
   "cell_type": "code",
   "execution_count": 10,
   "metadata": {},
   "outputs": [],
   "source": [
    "#Config 에서 설정한 space_dim(bottleneck size) 대로 오토인코더 생성 \n",
    "model = Convolution_Auto_Encoder(MVtecEncoder,MVtecDecoder,cfg['encoded_space_dim']).to(cfg['device'])\n",
    "criterion = nn.MSELoss()\n",
    "optimizer = torch.optim.AdamW(model.parameters(),lr=cfg['lr'],weight_decay=cfg['weight_decay'])\n",
    "scheduler = torch.optim.lr_scheduler.CosineAnnealingLR(optimizer,T_max=100,eta_min=0) #optimizer learning rate 조절 용 Scheduler "
   ]
  },
  {
   "cell_type": "markdown",
   "metadata": {},
   "source": [
    "## 학습 프로세스 "
   ]
  },
  {
   "cell_type": "code",
   "execution_count": 11,
   "metadata": {},
   "outputs": [
    {
     "name": "stderr",
     "output_type": "stream",
     "text": [
      "  0%|          | 0/50 [00:00<?, ?it/s]\n"
     ]
    }
   ],
   "source": [
    "total_train_loss = [] \n",
    "total_valid_loss = [] \n",
    "best_valid_loss = np.inf \n",
    "for epoch in tqdm(range(cfg['Epochs'])):\n",
    "    model.train() \n",
    "    optimizer.zero_grad()\n",
    "    train_loss = [] \n",
    "#Train Process \n",
    "    for img,_ in train_loader:\n",
    "        img = img.to(cfg['device']).type(torch.float32)\n",
    "        y_pred = model(img).type(torch.float32)\n",
    "        loss = criterion(img,y_pred)\n",
    "\n",
    "        #Backpropagation \n",
    "        loss.backward()\n",
    "        optimizer.step()\n",
    "        train_loss.append(loss.detach().cpu().numpy())\n",
    "    scheduler.step()        \n",
    "\n",
    "#Valid process \n",
    "    model.eval()\n",
    "    valid_loss = [] \n",
    "    with torch.no_grad():\n",
    "        for img,_ in valid_loader:\n",
    "            img = img.to(cfg['device'])\n",
    "            y_pred = model(img)\n",
    "            loss = criterion(img,y_pred)\n",
    "            valid_loss.append(loss.detach().cpu().numpy())\n",
    "    print(f'\\t epoch : {epoch+1} valid loss : {np.mean(valid_loss):.3f}')\n",
    "    #시각화 \n",
    "    fig, (ax1,ax2) = plt.subplots(ncols=2,nrows=1,figsize=(5, 5))\n",
    "    ax1.imshow(img[0].detach().cpu().permute(1,2,0).numpy())\n",
    "    ax2.imshow(y_pred[0].detach().cpu().permute(1,2,0).numpy())\n",
    "    plt.show()"
   ]
  },
  {
   "cell_type": "markdown",
   "metadata": {},
   "source": [
    "# 학습 후 Test"
   ]
  },
  {
   "cell_type": "markdown",
   "metadata": {},
   "source": [
    "## Inference "
   ]
  },
  {
   "cell_type": "code",
   "execution_count": null,
   "metadata": {},
   "outputs": [],
   "source": [
    "#오토인코더를 모두 사용하는 Reconstruction과 Encoder만을 사용하는 Machinelearning 모두 진행 \n",
    "encoder = model.encoder \n",
    "Pred_imgs = [] \n",
    "Pred_vecs = [] \n",
    "True_imgs = [] \n",
    "True_labels = []\n",
    "for img,label in test_loader:\n",
    "    img,label = img.to(cfg['device']).type(torch.float32),label.to(cfg['device']).type(torch.float32)\n",
    "\n",
    "    with torch.no_grad():\n",
    "        Pred_img = model(img)\n",
    "        Pred_vec = encoder(img)\n",
    "\n",
    "    Pred_imgs.extend(Pred_img.detach().cpu().numpy())\n",
    "    Pred_vecs.extend(Pred_vec.detach().cpu().numpy())\n",
    "    True_imgs.extend(img.detach().cpu().numpy())\n",
    "    True_labels.extend(label.detach().numpy())\n",
    "\n",
    "#머신러닝의 OC-SVM을 학습시키기 위했선 Training 데이터도 필요함 \n",
    "Train_vecs = [] \n",
    "Train_labels = [] \n",
    "\n",
    "for img,label in train_loader:\n",
    "    img,label = img.to(cfg['device']).type(torch.float32),label.to(cfg['device']).type(torch.float32)\n",
    "\n",
    "    with torch.no_grad():\n",
    "        Train_vec = encoder(img)\n",
    "    Train_vecs.extend(Train_vec.detach().cpu().numpy())\n",
    "    Train_labels.extend(label.detach().cpu().numpy())\n",
    "\n",
    "Train_vecs = np.array(Train_vecs)\n",
    "Train_labels = np.array(Train_labels)"
   ]
  },
  {
   "cell_type": "markdown",
   "metadata": {},
   "source": [
    "## Metrics "
   ]
  },
  {
   "cell_type": "markdown",
   "metadata": {},
   "source": [
    "### Reconstruction "
   ]
  },
  {
   "cell_type": "code",
   "execution_count": null,
   "metadata": {},
   "outputs": [],
   "source": [
    "#Reconstruction 방법론을 이용한 경우 각 이미지의 Anomaly Score 계산 -> MSE를 사용 함 \n",
    "from sklearn.metrics import roc_curve,auc \n",
    "test_score = np.mean(np.array(Pred_imgs-True_imgs).reshape(len(True_labels),-1)**2,axis=1)\n",
    "fpr,tpr,threshold = roc_curve(True_labels,test_score,pos_label=0)\n",
    "AUROC = round(auc(fpr,tpr),4)"
   ]
  },
  {
   "cell_type": "markdown",
   "metadata": {},
   "source": [
    "### Machine learnig : OC-SVM"
   ]
  },
  {
   "cell_type": "code",
   "execution_count": null,
   "metadata": {},
   "outputs": [],
   "source": [
    "#Machine learning : OC-SVM 방법론을 이용한 경우 Train - normal 데이터로 학습한 뒤 Test 데이터 Inference \n",
    "#우선 normal 데이터의 스케일링 진행 \n",
    "from sklearn.preprocessing import MinMaxScaler\n",
    "minmax = MinMaxScaler()\n",
    "train_normalized_vecs = minmax.fit_transform(Train_vecs)\n",
    "test_normalized_vecs = minmax.transform(Pred_vecs)\n",
    "\n",
    "#Test 라벨 정제 \n",
    "'''\n",
    "- Test 라벨의 경우 Anomaly가 세부 카테고리로 나뉘어 있음 \n",
    "- 이를 Anomaly  하나로 통합해야 함 \n",
    "- 기존의 Normal의 라벨은 2 이므로 나머지는 모두 1로 바꾼 뒤 2를 -1로 변환 함 \n",
    "- True_labels == Test 데이터의 진짜 라벨 \n",
    "'''\n",
    "True_labels = np.where(True_labels==2,True_labels,1)  \n",
    "True_labels = np.where(True_labels==1,True_labels,-1) # Anomaly:-1, normal:1\n",
    "\n",
    "#모델 학습 \n",
    "from sklearn.svm import OneClassSVM\n",
    "model = OneClassSVM()\n",
    "model.fit(train_normalized_vecs)\n",
    "Pred_labels = model.predict(test_normalized_vecs)\n",
    "preds = model.score_samples(test_normalized_vecs)\n",
    "\n",
    "#AUROC 계산 \n",
    "fpr,tpr,threshold = roc_curve(preds,True_labels,pos_label=1)\n",
    "AUROC = round(auc(fpr, tpr),4)"
   ]
  }
 ],
 "metadata": {
  "kernelspec": {
   "display_name": "Python 3 (ipykernel)",
   "language": "python",
   "name": "python3"
  },
  "language_info": {
   "codemirror_mode": {
    "name": "ipython",
    "version": 3
   },
   "file_extension": ".py",
   "mimetype": "text/x-python",
   "name": "python",
   "nbconvert_exporter": "python",
   "pygments_lexer": "ipython3",
   "version": "3.8.10"
  },
  "vscode": {
   "interpreter": {
    "hash": "916dbcbb3f70747c44a77c7bcd40155683ae19c65e1c03b4aa3499c5328201f1"
   }
  }
 },
 "nbformat": 4,
 "nbformat_minor": 4
}
