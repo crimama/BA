{
 "cells": [
  {
   "cell_type": "code",
   "execution_count": null,
   "metadata": {},
   "outputs": [],
   "source": [
    "model = Convolution_Auto_Encoder(128)\n",
    "img,b = next(iter(train_loader))\n",
    "\n",
    "y_pred= model(img)\n",
    "\n",
    "y_pred = y_pred.detach().numpy()[1]\n",
    "y_pred = np.swapaxes(y_pred,0,2)\n",
    "\n",
    "fig, (ax1,ax2) = plt.subplots(ncols=2,nrows=1,figsize=(10, 10))\n",
    "ax2.imshow(y_pred)\n",
    "ax2.set_title('Reconstructed image')\n",
    "ax1.imshow(img[1].permute(1,2,0).numpy())\n",
    "ax1.set_title('Original Image')"
   ]
  },
  {
   "cell_type": "code",
   "execution_count": null,
   "metadata": {},
   "outputs": [],
   "source": [
    "def mnist_preprocess(cfg):\n",
    "    #mk save dir \n",
    "    try:\n",
    "        os.mkdir(f\"./Save_models/{cfg['save_dir']}\")\n",
    "    except:\n",
    "        pass\n",
    "\n",
    "    #seed fix \n",
    "    torch.manual_seed(cfg['seed'])\n",
    "    # download path 정의\n",
    "    download_root = './MNIST_DATASET'\n",
    "\n",
    "    train_dataset = MNIST(download_root, train=True, download=True)\n",
    "    valid_dataset = MNIST(download_root, train=False, download=True)\n",
    "\n",
    "\n",
    "    train_loader = DataLoader(Mnist_Dataset(train_dataset,target_class=cfg['target_class']),cfg['batch_size'],shuffle=True)\n",
    "    valid_normal_loader = DataLoader(Mnist_Dataset(valid_dataset,target_class=cfg['target_class']),cfg['batch_size'])\n",
    "    valid_anomal_loader = DataLoader(Mnist_Dataset(valid_dataset),cfg['batch_size'])\n",
    "    return train_loader, valid_normal_loader,valid_anomal_loader \n",
    "\n",
    "train_loader, valid_normal_loader,valid_anomal_loader  = mnist_preprocess(cfg)    "
   ]
  }
 ],
 "metadata": {
  "kernelspec": {
   "display_name": "Python 3.8.10 64-bit",
   "language": "python",
   "name": "python3"
  },
  "language_info": {
   "name": "python",
   "version": "3.8.10"
  },
  "orig_nbformat": 4,
  "vscode": {
   "interpreter": {
    "hash": "916dbcbb3f70747c44a77c7bcd40155683ae19c65e1c03b4aa3499c5328201f1"
   }
  }
 },
 "nbformat": 4,
 "nbformat_minor": 2
}
