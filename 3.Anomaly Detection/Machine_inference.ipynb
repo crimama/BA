{
 "cells": [
  {
   "cell_type": "code",
   "execution_count": 1,
   "id": "25349d5e-f523-4e64-81aa-b80d17e224dc",
   "metadata": {},
   "outputs": [],
   "source": [
    "import warnings \n",
    "warnings.filterwarnings('ignore')\n",
    "import torch \n",
    "import torch.nn as nn \n",
    "import torchvision \n",
    "import cv2 \n",
    "import numpy as np \n",
    "import matplotlib.pyplot as plt \n",
    "from PIL import Image\n",
    "from tqdm import tqdm \n",
    "import torchvision.transforms as transforms\n",
    "from torchvision.datasets import MNIST\n",
    "from torch.utils.data import DataLoader,Dataset\n",
    "import os \n",
    "import yaml \n",
    "from sklearn.metrics import roc_curve,auc\n",
    "from sklearn.metrics import f1_score\n",
    "from sklearn.metrics import classification_report\n",
    "\n",
    "from src import Convolution_Auto_Encoder, Mnist_Dataset,MVtecADDataset,Datadir_init\n",
    "from src import MVtecEncoder,MVtecDecoder,Convolution_Auto_Encoder\n"
   ]
  },
  {
   "cell_type": "code",
   "execution_count": 2,
   "id": "b5c171ce-7902-468e-bbd7-a78c15eefa6d",
   "metadata": {},
   "outputs": [],
   "source": [
    "cfg = yaml.load(open('./Save_models/MVtecAD4/config.yaml','r'), Loader=yaml.FullLoader)"
   ]
  },
  {
   "cell_type": "code",
   "execution_count": 3,
   "id": "a9489496-11cb-42bc-8a83-025383cb449b",
   "metadata": {},
   "outputs": [],
   "source": [
    "def preprocess(cfg,augmentation=None):\n",
    "    #mk save dir \n",
    "    try:\n",
    "        os.mkdir(f\"./Save_models/{cfg['save_dir']}\")\n",
    "    except:\n",
    "        pass\n",
    "    torch.manual_seed(cfg['seed'])\n",
    "    data_dir = cfg['Dataset_dir']\n",
    "    Data_dir = Datadir_init()\n",
    "    train_dirs = Data_dir.train_load()\n",
    "    test_dirs,test_labels = Data_dir.test_load()\n",
    "\n",
    "    train_dset = MVtecADDataset(cfg,train_dirs,Augmentation=augmentation)\n",
    "    test_dset = MVtecADDataset(cfg,test_dirs,test_labels,Augmentation=augmentation)\n",
    "\n",
    "    train_loader = DataLoader(train_dset,batch_size=cfg['batch_size'],shuffle=True)\n",
    "    test_loader = DataLoader(test_dset,batch_size=cfg['batch_size'],shuffle=False)\n",
    "    return train_loader,test_loader "
   ]
  },
  {
   "cell_type": "code",
   "execution_count": 71,
   "id": "8b4ff5ff-401c-4df6-a071-d44e8312ff9b",
   "metadata": {},
   "outputs": [],
   "source": [
    "#변수 리스트 \n",
    "normal_vecs = [] \n",
    "normal_labels = [] \n",
    "#데이터 및 모델 로드 \n",
    "train_loader,test_loader  = preprocess(cfg)    \n",
    "model = torch.load(f\"./Save_models/{cfg['save_dir']}/best.pt\").to(cfg['device'])\n",
    "encoder = model.encoder\n",
    "#Inference \n",
    "for img,label in train_loader:\n",
    "    img = img.to(cfg['device']).type(torch.float32)\n",
    "    \n",
    "    with torch.no_grad():\n",
    "        normal_vec =  encoder(img)\n",
    "        \n",
    "    normal_vecs.extend(normal_vec.detach().cpu().numpy())\n",
    "    normal_labels.extend(label.detach().cpu().numpy())\n",
    "    \n",
    "normal_vecs = np.array(normal_vecs)\n",
    "normal_labels = np.array(normal_labels)\n"
   ]
  },
  {
   "cell_type": "code",
   "execution_count": 72,
   "id": "47bfefb7-19b5-49e2-b439-21c18e24918e",
   "metadata": {},
   "outputs": [],
   "source": [
    "from sklearn.preprocessing import MinMaxScaler\n",
    "minmax = MinMaxScaler()\n",
    "normalized_vecs = minmax.fit_transform(normal_vecs)"
   ]
  },
  {
   "cell_type": "code",
   "execution_count": 73,
   "id": "6a0d8056-5621-4967-b24d-9a848a7c2145",
   "metadata": {},
   "outputs": [
    {
     "data": {
      "text/plain": [
       "OneClassSVM()"
      ]
     },
     "execution_count": 73,
     "metadata": {},
     "output_type": "execute_result"
    }
   ],
   "source": [
    "from sklearn.svm import OneClassSVM\n",
    "\n",
    "model = OneClassSVM()\n",
    "model.fit(normalized_vecs)"
   ]
  },
  {
   "cell_type": "code",
   "execution_count": 83,
   "id": "810d46cc-8d8e-45f7-b1c5-9231225bf1d1",
   "metadata": {},
   "outputs": [],
   "source": [
    "#변수 리스트 \n",
    "test_vecs = [] \n",
    "test_labels = [] \n",
    "#데이터 및 모델 로드 \n",
    "train_loader,test_loader  = preprocess(cfg)    \n",
    "\n",
    "#Inference \n",
    "for img,label in test_loader:\n",
    "    img = img.to(cfg['device']).type(torch.float32)\n",
    "    \n",
    "    with torch.no_grad():\n",
    "        test_vec =  encoder(img)\n",
    "        \n",
    "    test_vecs.extend(test_vec.detach().cpu().numpy())\n",
    "    test_labels.extend(label.detach().cpu().numpy())\n",
    "    \n",
    "test_vecs = np.array(test_vecs)\n",
    "test_labels = np.array(test_labels)\n",
    "test_labels = np.where(test_labels==0,test_labels,-1) # Anomaly:-1, normal:0\n",
    "test_labels = np.where(test_labels==1,test_labels,1) # Anomaly:-1, normal:1"
   ]
  },
  {
   "cell_type": "code",
   "execution_count": 84,
   "id": "d75f0c4f-2bcd-4f1f-84f8-69ea7ed71825",
   "metadata": {},
   "outputs": [],
   "source": [
    "normalized_test_vecs = minmax.transform(test_vecs)\n",
    "y_pred = model.predict(normalized_test_vecs)"
   ]
  },
  {
   "cell_type": "code",
   "execution_count": 85,
   "id": "8546a99e-002d-48f4-9a87-22d1e0dd3393",
   "metadata": {},
   "outputs": [
    {
     "name": "stdout",
     "output_type": "stream",
     "text": [
      "              precision    recall  f1-score   support\n",
      "\n",
      "          -1       0.00      0.00      0.00        40\n",
      "           1       0.64      1.00      0.78        70\n",
      "\n",
      "    accuracy                           0.64       110\n",
      "   macro avg       0.32      0.50      0.39       110\n",
      "weighted avg       0.40      0.64      0.49       110\n",
      "\n"
     ]
    }
   ],
   "source": [
    "print(classification_report(y_pred,test_labels))"
   ]
  },
  {
   "cell_type": "markdown",
   "id": "45022f91-3acf-4a5e-b3ac-8933923dfa9d",
   "metadata": {},
   "source": [
    "1이 normal인지 anomaly인지 확인 필요 "
   ]
  }
 ],
 "metadata": {
  "kernelspec": {
   "display_name": "Python 3.8.10 64-bit",
   "language": "python",
   "name": "python3"
  },
  "language_info": {
   "codemirror_mode": {
    "name": "ipython",
    "version": 3
   },
   "file_extension": ".py",
   "mimetype": "text/x-python",
   "name": "python",
   "nbconvert_exporter": "python",
   "pygments_lexer": "ipython3",
   "version": "3.8.10"
  },
  "vscode": {
   "interpreter": {
    "hash": "916dbcbb3f70747c44a77c7bcd40155683ae19c65e1c03b4aa3499c5328201f1"
   }
  }
 },
 "nbformat": 4,
 "nbformat_minor": 5
}
