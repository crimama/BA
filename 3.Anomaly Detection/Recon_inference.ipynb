{
 "cells": [
  {
   "cell_type": "code",
   "execution_count": 10,
   "metadata": {},
   "outputs": [],
   "source": [
    "import warnings \n",
    "warnings.filterwarnings('ignore')\n",
    "import torch \n",
    "import torch.nn as nn \n",
    "import torchvision \n",
    "import cv2 \n",
    "import numpy as np \n",
    "import matplotlib.pyplot as plt \n",
    "from PIL import Image\n",
    "from tqdm import tqdm \n",
    "import torchvision.transforms as transforms\n",
    "from torchvision.datasets import MNIST\n",
    "from torch.utils.data import DataLoader,Dataset\n",
    "import os \n",
    "import yaml \n",
    "from sklearn.metrics import roc_curve,auc\n",
    "from sklearn.metrics import f1_score\n",
    "from sklearn.metrics import classification_report\n",
    "\n",
    "from src import Convolution_Auto_Encoder, Mnist_Dataset,MVtecADDataset,Datadir_init\n",
    "from src import MVtecEncoder,MVtecDecoder,Convolution_Auto_Encoder\n"
   ]
  },
  {
   "cell_type": "code",
   "execution_count": 11,
   "metadata": {},
   "outputs": [],
   "source": [
    "cfg = yaml.load(open('./Save_models/MVtecAD4/config.yaml','r'), Loader=yaml.FullLoader)"
   ]
  },
  {
   "cell_type": "markdown",
   "metadata": {},
   "source": [
    "# 데이터 로드 "
   ]
  },
  {
   "cell_type": "code",
   "execution_count": 12,
   "metadata": {},
   "outputs": [],
   "source": [
    "def preprocess(cfg,augmentation=None):\n",
    "    #mk save dir \n",
    "    try:\n",
    "        os.mkdir(f\"./Save_models/{cfg['save_dir']}\")\n",
    "    except:\n",
    "        pass\n",
    "    torch.manual_seed(cfg['seed'])\n",
    "    data_dir = cfg['Dataset_dir']\n",
    "    Data_dir = Datadir_init()\n",
    "    train_dirs = Data_dir.train_load()\n",
    "    test_dirs,test_labels = Data_dir.test_load()\n",
    "\n",
    "    train_dset = MVtecADDataset(cfg,train_dirs,Augmentation=augmentation)\n",
    "    test_dset = MVtecADDataset(cfg,test_dirs,test_labels,Augmentation=augmentation)\n",
    "\n",
    "    train_loader = DataLoader(train_dset,batch_size=cfg['batch_size'],shuffle=True)\n",
    "    test_loader = DataLoader(test_dset,batch_size=cfg['batch_size'],shuffle=False)\n",
    "    return train_loader,test_loader "
   ]
  },
  {
   "cell_type": "markdown",
   "metadata": {},
   "source": [
    "# Test data Inference "
   ]
  },
  {
   "cell_type": "code",
   "execution_count": 13,
   "metadata": {},
   "outputs": [],
   "source": [
    "#변수 리스트 \n",
    "Pred_imgs = [] \n",
    "True_imgs = [] \n",
    "True_labels = [] \n",
    "\n",
    "#데이터 및 모델 로드 \n",
    "train_loader,test_loader  = preprocess(cfg)    \n",
    "model = torch.load(f\"./Save_models/{cfg['save_dir']}/best.pt\").to(cfg['device'])\n",
    "#Inference \n",
    "for img,label in test_loader:\n",
    "    img = img.to(cfg['device']).type(torch.float32)\n",
    "    \n",
    "    with torch.no_grad():\n",
    "        Pred_img =  model(img)\n",
    "        \n",
    "    Pred_imgs.extend(Pred_img.detach().cpu().numpy())\n",
    "    True_imgs.extend(img.detach().cpu().numpy())\n",
    "    True_labels.extend(label.detach().numpy())\n",
    "    \n",
    "Pred_imgs = np.array(Pred_imgs)\n",
    "True_imgs = np.array(True_imgs)\n",
    "True_labels = np.array(True_labels)\n",
    "True_labels = np.where(True_labels==0,True_labels,1) # Anomaly:1, normal:0 "
   ]
  },
  {
   "cell_type": "markdown",
   "metadata": {},
   "source": [
    "# Metrics : AUROC, ROC curve "
   ]
  },
  {
   "cell_type": "code",
   "execution_count": 29,
   "metadata": {},
   "outputs": [
    {
     "data": {
      "image/png": "[encoded data removed]",
      "text/plain": [
       "<Figure size 640x480 with 1 Axes>"
      ]
     },
     "metadata": {},
     "output_type": "display_data"
    },
    {
     "name": "stdout",
     "output_type": "stream",
     "text": [
      "\t\t\t\t AUROC : 0.6655\n"
     ]
    }
   ],
   "source": [
    "def Metric_auroc_roc(Pred_imgs,True_imgs,True_labels):\n",
    "    #roc_curve & AUROC \n",
    "    test_score = np.mean(np.array(Pred_imgs-True_imgs).reshape(len(True_labels),-1)**2,axis=1)\n",
    "    fpr,tpr,threshold = roc_curve(True_labels,test_score,pos_label=0)\n",
    "    AUROC = round(auc(fpr, tpr),4)\n",
    "    plt.plot(fpr,tpr)\n",
    "    plt.title('ROC curve')\n",
    "    plt.show()\n",
    "    return AUROC,test_score,[fpr,tpr,threshold]\n",
    "\n",
    "auroc,test_score,roc = Metric_auroc_roc(Pred_imgs,True_imgs,True_labels)\n",
    "print(f'\\t\\t\\t\\t AUROC : {auroc}')"
   ]
  },
  {
   "cell_type": "markdown",
   "metadata": {},
   "source": [
    "# Metrics : F1-score"
   ]
  },
  {
   "cell_type": "markdown",
   "metadata": {},
   "source": [
    "Train 데이터의 Reconstruction error와 Test 데이터의 Reconstruction error를 비교해서 Threshold 결정 "
   ]
  },
  {
   "cell_type": "markdown",
   "metadata": {},
   "source": [
    "## Train Reconstruction -> Threshold 결정 "
   ]
  },
  {
   "cell_type": "code",
   "execution_count": 33,
   "metadata": {},
   "outputs": [],
   "source": [
    "#변수 리스트 \n",
    "Train_Pred_imgs = [] \n",
    "Train_True_imgs = [] \n",
    "Train_True_labels = [] \n",
    "\n",
    "#데이터 및 모델 로드 \n",
    "train_loader,test_loader  = preprocess(cfg)    \n",
    "model = torch.load(f\"./Save_models/{cfg['save_dir']}/best.pt\").to(cfg['device'])\n",
    "#Inference \n",
    "for img,label in train_loader:\n",
    "    img = img.to(cfg['device']).type(torch.float32)\n",
    "    \n",
    "    with torch.no_grad():\n",
    "        Pred_img =  model(img)\n",
    "        \n",
    "    Train_Pred_imgs.extend(Pred_img.detach().cpu().numpy())\n",
    "    Train_True_imgs.extend(img.detach().cpu().numpy())\n",
    "    Train_True_labels.extend(label.detach().numpy())\n",
    "    \n",
    "Train_Pred_imgs = np.array(Train_Pred_imgs)\n",
    "Train_True_imgs = np.array(Train_True_imgs)\n",
    "Train_True_labels = np.array(Train_True_labels)\n",
    "Train_True_labels = np.where(Train_True_labels==0,Train_True_labels,1) # Anomaly:1, normal:0 "
   ]
  },
  {
   "cell_type": "code",
   "execution_count": 37,
   "metadata": {},
   "outputs": [],
   "source": [
    "Train_score = np.mean(np.array(Train_Pred_imgs-Train_True_imgs).reshape(len(Train_True_labels),-1)**2,axis=1)"
   ]
  },
  {
   "cell_type": "code",
   "execution_count": 43,
   "metadata": {},
   "outputs": [
    {
     "data": {
      "image/png": "[encoded data removed]",
      "text/plain": [
       "<Figure size 640x480 with 1 Axes>"
      ]
     },
     "metadata": {},
     "output_type": "display_data"
    }
   ],
   "source": [
    "plt.hist(Train_score,alpha=0.2,label='train')\n",
    "plt.hist(test_score,alpha=0.2,label='test')\n",
    "plt.xlim(0,0.002)\n",
    "plt.legend()\n",
    "plt.show()"
   ]
  },
  {
   "cell_type": "markdown",
   "metadata": {},
   "source": [
    "## 최종 Metric "
   ]
  },
  {
   "cell_type": "code",
   "execution_count": 54,
   "metadata": {},
   "outputs": [
    {
     "name": "stdout",
     "output_type": "stream",
     "text": [
      "              precision    recall  f1-score   support\n",
      "\n",
      "           0       0.30      1.00      0.46        18\n",
      "           1       1.00      0.54      0.70        92\n",
      "\n",
      "    accuracy                           0.62       110\n",
      "   macro avg       0.65      0.77      0.58       110\n",
      "weighted avg       0.89      0.62      0.66       110\n",
      "\n"
     ]
    }
   ],
   "source": [
    "Threshold = 0.0015 \n",
    "test_score> Threshold\n",
    "Pred_labels = np.where(test_score> Threshold,True_labels,0)\n",
    "score = classification_report(True_labels,Pred_labels)\n",
    "print(score)\n",
    "#print(f' F1-score : {score}')"
   ]
  }
 ],
 "metadata": {
  "kernelspec": {
   "display_name": "Python 3 (ipykernel)",
   "language": "python",
   "name": "python3"
  },
  "language_info": {
   "codemirror_mode": {
    "name": "ipython",
    "version": 3
   },
   "file_extension": ".py",
   "mimetype": "text/x-python",
   "name": "python",
   "nbconvert_exporter": "python",
   "pygments_lexer": "ipython3",
   "version": "3.8.10"
  },
  "vscode": {
   "interpreter": {
    "hash": "916dbcbb3f70747c44a77c7bcd40155683ae19c65e1c03b4aa3499c5328201f1"
   }
  }
 },
 "nbformat": 4,
 "nbformat_minor": 4
}
