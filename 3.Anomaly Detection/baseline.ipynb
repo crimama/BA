{
 "cells": [
  {
   "cell_type": "code",
   "execution_count": 1,
   "metadata": {},
   "outputs": [
    {
     "name": "stderr",
     "output_type": "stream",
     "text": [
      "/usr/local/lib/python3.8/dist-packages/tqdm/auto.py:22: TqdmWarning: IProgress not found. Please update jupyter and ipywidgets. See https://ipywidgets.readthedocs.io/en/stable/user_install.html\n",
      "  from .autonotebook import tqdm as notebook_tqdm\n"
     ]
    }
   ],
   "source": [
    "import torch \n",
    "import torch.nn as nn \n",
    "import torchvision \n",
    "import cv2 \n",
    "import numpy as np \n",
    "import matplotlib.pyplot as plt \n",
    "from PIL import Image\n",
    "from tqdm import tqdm \n",
    "import torchvision.transforms as transforms\n",
    "from torchvision.datasets import MNIST\n",
    "from torch.utils.data import DataLoader,Dataset\n",
    "import os \n",
    "import yaml \n",
    "\n",
    "from src import Convolution_Auto_Encoder, Mnist_Dataset,MVtecADDataset,Datadir_init\n",
    "from src import MVtecEncoder,MVtecDecoder,Convolution_Auto_Encoder\n",
    "\n",
    "cfg = {'seed':42,\n",
    "       'img_size':256,\n",
    "       'device':'cuda:0',\n",
    "       'encoded_space_dim':128,\n",
    "       'lr':0.0001,\n",
    "       'weight_decay':1e-05,\n",
    "       'batch_size':64,\n",
    "       'Epochs':100,\n",
    "       'target_class':6,\n",
    "       'save_dir':'Base',\n",
    "       'Dataset_dir':'./Dataset/hazelnut'}"
   ]
  },
  {
   "cell_type": "markdown",
   "metadata": {},
   "source": [
    "# Model "
   ]
  },
  {
   "cell_type": "code",
   "execution_count": 15,
   "metadata": {},
   "outputs": [
    {
     "data": {
      "text/plain": [
       "Text(0.5, 1.0, 'Original Image')"
      ]
     },
     "execution_count": 15,
     "metadata": {},
     "output_type": "execute_result"
    },
    {
     "data": {
      "image/png": "[encoded data removed]",
      "text/plain": [
       "<Figure size 1000x1000 with 2 Axes>"
      ]
     },
     "metadata": {},
     "output_type": "display_data"
    }
   ],
   "source": [
    "model = Convolution_Auto_Encoder(128)\n",
    "img,b = next(iter(train_loader))\n",
    "\n",
    "y_pred= model(img)\n",
    "\n",
    "y_pred = y_pred.detach().numpy()[1]\n",
    "y_pred = np.swapaxes(y_pred,0,2)\n",
    "\n",
    "fig, (ax1,ax2) = plt.subplots(ncols=2,nrows=1,figsize=(10, 10))\n",
    "ax2.imshow(y_pred)\n",
    "ax2.set_title('Reconstructed image')\n",
    "ax1.imshow(img[1].permute(1,2,0).numpy())\n",
    "ax1.set_title('Original Image')"
   ]
  },
  {
   "cell_type": "markdown",
   "metadata": {},
   "source": [
    "# 학습 "
   ]
  },
  {
   "cell_type": "code",
   "execution_count": 4,
   "metadata": {},
   "outputs": [],
   "source": [
    "def preprocess(cfg):\n",
    "    #mk save dir \n",
    "    try:\n",
    "        os.mkdir(f\"./Save_models/{cfg['save_dir']}\")\n",
    "    except:\n",
    "        pass\n",
    "\n",
    "    #seed fix \n",
    "    torch.manual_seed(cfg['seed'])\n",
    "    # download path 정의\n",
    "    download_root = './MNIST_DATASET'\n",
    "\n",
    "    train_dataset = MNIST(download_root, train=True, download=True)\n",
    "    valid_dataset = MNIST(download_root, train=False, download=True)\n",
    "\n",
    "\n",
    "    train_loader = DataLoader(Mnist_Dataset(train_dataset,target_class=cfg['target_class']),cfg['batch_size'],shuffle=True)\n",
    "    valid_normal_loader = DataLoader(Mnist_Dataset(valid_dataset,target_class=cfg['target_class']),cfg['batch_size'])\n",
    "    valid_anomal_loader = DataLoader(Mnist_Dataset(valid_dataset),cfg['batch_size'])\n",
    "    return train_loader, valid_normal_loader,valid_anomal_loader \n",
    "\n",
    "train_loader, valid_normal_loader,valid_anomal_loader  = preprocess(cfg)    "
   ]
  },
  {
   "cell_type": "code",
   "execution_count": 5,
   "metadata": {},
   "outputs": [],
   "source": [
    "def preprocess(cfg,augmentation=None):\n",
    "    #mk save dir \n",
    "    try:\n",
    "        os.mkdir(f\"./Save_models/{cfg['save_dir']}\")\n",
    "    except:\n",
    "        pass\n",
    "    torch.manual_seed(cfg['seed'])\n",
    "    data_dir = cfg['Dataset_dir']\n",
    "    Data_dir = Datadir_init()\n",
    "    train_dirs = Data_dir.train_load()\n",
    "    test_dirs,test_labels = Data_dir.test_load()\n",
    "\n",
    "    train_dset = MVtecADDataset(cfg,train_dirs,Augmentation=augmentation)\n",
    "    test_dset = MVtecADDataset(cfg,test_dirs,test_labels,Augmentation=augmentation)\n",
    "\n",
    "    train_loader = DataLoader(train_dset,batch_size=cfg['batch_size'],shuffle=True)\n",
    "    test_loader = DataLoader(test_dset,batch_size=cfg['batch_size'],shuffle=False)\n",
    "    return train_loader,test_loader \n",
    "\n",
    "def train_epoch(model,dataloader,criterion,optimizer,scheduler,scaler):\n",
    "       model.train()\n",
    "       optimizer.zero_grad()\n",
    "       train_loss = [] \n",
    "       for img,label in dataloader:\n",
    "              img = img.to(cfg['device']).type(torch.float32)\n",
    "              with torch.cuda.amp.autocast():\n",
    "                    y_pred = model(img).type(torch.float32)\n",
    "                    loss = criterion(img,y_pred)\n",
    "              #y_pred = model(img).type(torch.float32)\n",
    "              \n",
    "\n",
    "              #Backpropagation\n",
    "              scaler.scale(loss).backward()\n",
    "              scaler.step(optimizer)\n",
    "              scaler.update() \n",
    "              #loss.backward()\n",
    "              #optimizer.step()\n",
    "\n",
    "              #loss save \n",
    "              train_loss.append(loss.detach().cpu().numpy())\n",
    "       scheduler.step() \n",
    "       print(f'\\t epoch : {epoch+1} train loss : {np.mean(train_loss):.3f}')\n",
    "       return np.mean(train_loss)\n",
    "\n",
    "def valid_epoch(model,dataloader,criterion):\n",
    "       model.eval()\n",
    "       valid_loss = [] \n",
    "       with torch.no_grad():\n",
    "              for img,label in dataloader:\n",
    "                     img = img.to(cfg['device'])\n",
    "                     y_pred = model(img)\n",
    "                     loss = criterion(y_pred,img)\n",
    "                     valid_loss.append(loss.detach().cpu().numpy())\n",
    "       print(f'\\t epoch : {epoch+1} valid loss : {np.mean(valid_loss):.3f}')\n",
    "       #fig, (ax1,ax2) = plt.subplots(ncols=2,nrows=1,figsize=(5, 5))\n",
    "       #ax1.imshow(img[0].detach().cpu().permute(1,2,0).numpy())\n",
    "       #ax2.imshow(y_pred[0].detach().cpu().permute(1,2,0).numpy())\n",
    "       #plt.show()\n",
    "       return np.mean(valid_loss)"
   ]
  },
  {
   "cell_type": "code",
   "execution_count": 1,
   "metadata": {},
   "outputs": [
    {
     "ename": "NameError",
     "evalue": "name 'preprocess' is not defined",
     "output_type": "error",
     "traceback": [
      "\u001b[0;31m---------------------------------------------------------------------------\u001b[0m",
      "\u001b[0;31mNameError\u001b[0m                                 Traceback (most recent call last)",
      "Cell \u001b[0;32mIn [1], line 2\u001b[0m\n\u001b[1;32m      1\u001b[0m \u001b[39m#train_loader, valid_normal_loader,valid_anomal_loader  = preprocess(cfg)\u001b[39;00m\n\u001b[0;32m----> 2\u001b[0m train_loader,test_loader  \u001b[39m=\u001b[39m preprocess(cfg)\n\u001b[1;32m      3\u001b[0m model \u001b[39m=\u001b[39m Convolution_Auto_Encoder(MVtecEncoder,MVtecDecoder,cfg[\u001b[39m'\u001b[39m\u001b[39mencoded_space_dim\u001b[39m\u001b[39m'\u001b[39m])\u001b[39m.\u001b[39mto(cfg[\u001b[39m'\u001b[39m\u001b[39mdevice\u001b[39m\u001b[39m'\u001b[39m])\n\u001b[1;32m      4\u001b[0m criterion \u001b[39m=\u001b[39m nn\u001b[39m.\u001b[39mMSELoss()\n",
      "\u001b[0;31mNameError\u001b[0m: name 'preprocess' is not defined"
     ]
    }
   ],
   "source": [
    "#train_loader, valid_normal_loader,valid_anomal_loader  = preprocess(cfg)\n",
    "train_loader,test_loader  = preprocess(cfg)\n",
    "model = Convolution_Auto_Encoder(MVtecEncoder,MVtecDecoder,cfg['encoded_space_dim']).to(cfg['device'])\n",
    "criterion = nn.MSELoss()\n",
    "optimizer = torch.optim.AdamW(model.parameters(),lr=cfg['lr'],weight_decay=cfg['weight_decay'])\n",
    "\n",
    "scheduler = torch.optim.lr_scheduler.CosineAnnealingLR(optimizer,T_max=100,eta_min=0)\n",
    "scaler = torch.cuda.amp.GradScaler()\n",
    "\n",
    "\n",
    "total_train_loss = [] \n",
    "total_valid_loss = [] \n",
    "best_valid_loss = np.inf \n",
    "\n",
    "for epoch in tqdm(range(cfg['Epochs'])):\n",
    "    train_loss = train_epoch(model,train_loader,criterion,optimizer,scheduler,scaler)\n",
    "    valid_loss = valid_epoch(model,test_loader,criterion)\n",
    "    total_train_loss.append(train_loss)\n",
    "    total_valid_loss.append(valid_loss)\n",
    "\n",
    "    if valid_loss < best_valid_loss:\n",
    "        torch.save(model,f\"./Save_models/{cfg['save_dir']}/best.pt\")\n",
    "        best_valid_loss = valid_loss \n",
    "        print(f'\\t Model save : {epoch} | best loss : {best_valid_loss :.3f}')\n",
    "        cfg['save_epoch'] = epoch \n",
    "        cfg['best_valid_loss'] = best_valid_loss\n",
    "    \n",
    "    if valid_loss != valid_loss:\n",
    "        model = torch.load(f\"./Save_models/{cfg['save_dir']}/best.pt\")\n",
    "        print('Model rewinded')\n",
    "cfg['last_train_loss'] = total_train_loss[-1]\n",
    "cfg['last_valid_loss'] = total_valid_loss[-1]\n",
    "\n",
    "f = open(f\"./Save_models/{cfg['save_dir']}/config.yaml\",'w+')\n",
    "yaml.dump(cfg, f, allow_unicode=True)\n",
    "    \n",
    "    "
   ]
  },
  {
   "cell_type": "markdown",
   "metadata": {},
   "source": [
    "# Inference "
   ]
  },
  {
   "cell_type": "code",
   "execution_count": 113,
   "metadata": {},
   "outputs": [],
   "source": [
    "y_pred_list = [] \n",
    "y_true_list = [] \n",
    "label_list = [] \n",
    "encoder = model.encoder\n",
    "encoder.eval()\n",
    "for img,label in valid_anomal_loader:\n",
    "    img = img.to(cfg['device']).type(torch.float32)\n",
    "    with torch.no_grad():\n",
    "        y_pred =  encoder(img)\n",
    "    y_pred_list.extend(y_pred.detach().cpu().numpy())\n",
    "    y_true_list.extend(img.detach().cpu().numpy())\n",
    "    label_list.extend(label.detach().numpy())\n",
    "y_pred_list = np.array(y_pred_list)\n",
    "y_ture_list = np.array(y_true_list)\n",
    "label_list = np.array(label_list)"
   ]
  },
  {
   "cell_type": "code",
   "execution_count": 57,
   "metadata": {},
   "outputs": [
    {
     "ename": "SyntaxError",
     "evalue": "invalid syntax (2024291202.py, line 1)",
     "output_type": "error",
     "traceback": [
      "\u001b[0;36m  Cell \u001b[0;32mIn [57], line 1\u001b[0;36m\u001b[0m\n\u001b[0;31m    anomaly_score= np.mean(np.array(y_true_list - y_pred_list)**2.reshape(10000,-1),axis=1)\u001b[0m\n\u001b[0m                                                                  ^\u001b[0m\n\u001b[0;31mSyntaxError\u001b[0m\u001b[0;31m:\u001b[0m invalid syntax\n"
     ]
    }
   ],
   "source": [
    "anomaly_score = np.mean(np.array((y_true_list-y_pred_list)**2).reshape(10000,-1),axis=1)"
   ]
  },
  {
   "cell_type": "code",
   "execution_count": 93,
   "metadata": {},
   "outputs": [],
   "source": [
    "normaly_idx = np.where(label_list==cfg['target_class'])[0]\n",
    "anormaly_idx = np.where(label_list!=cfg['target_class'])[0]"
   ]
  },
  {
   "cell_type": "code",
   "execution_count": 96,
   "metadata": {},
   "outputs": [
    {
     "data": {
      "image/png": "[encoded data removed]",
      "text/plain": [
       "<Figure size 640x480 with 1 Axes>"
      ]
     },
     "metadata": {},
     "output_type": "display_data"
    }
   ],
   "source": [
    "plt.hist(anomaly_score[normaly_idx],bins=100,label='normal')\n",
    "plt.hist(anomaly_score[anormaly_idx],bins=100,label='anormal',alpha=0.5)\n",
    "plt.show()"
   ]
  },
  {
   "cell_type": "code",
   "execution_count": 118,
   "metadata": {},
   "outputs": [
    {
     "data": {
      "text/plain": [
       "torch.Size([16, 1, 28, 28])"
      ]
     },
     "execution_count": 118,
     "metadata": {},
     "output_type": "execute_result"
    }
   ],
   "source": [
    "img"
   ]
  }
 ],
 "metadata": {
  "kernelspec": {
   "display_name": "Python 3.8.10 64-bit",
   "language": "python",
   "name": "python3"
  },
  "language_info": {
   "codemirror_mode": {
    "name": "ipython",
    "version": 3
   },
   "file_extension": ".py",
   "mimetype": "text/x-python",
   "name": "python",
   "nbconvert_exporter": "python",
   "pygments_lexer": "ipython3",
   "version": "3.8.10"
  },
  "orig_nbformat": 4,
  "vscode": {
   "interpreter": {
    "hash": "916dbcbb3f70747c44a77c7bcd40155683ae19c65e1c03b4aa3499c5328201f1"
   }
  }
 },
 "nbformat": 4,
 "nbformat_minor": 2
}
