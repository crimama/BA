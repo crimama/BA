{
 "cells": [
  {
   "cell_type": "code",
   "execution_count": 100,
   "metadata": {},
   "outputs": [],
   "source": [
    "import warnings \n",
    "warnings.filterwarnings('ignore')\n",
    "import torch \n",
    "import torch.nn as nn \n",
    "import torchvision \n",
    "import cv2 \n",
    "import numpy as np \n",
    "import matplotlib.pyplot as plt \n",
    "from PIL import Image\n",
    "from tqdm import tqdm \n",
    "import torchvision.transforms as transforms\n",
    "from torchvision.datasets import MNIST\n",
    "from torch.utils.data import DataLoader,Dataset\n",
    "import os \n",
    "import pickle \n",
    "import yaml \n",
    "from sklearn.metrics import roc_curve,auc\n",
    "from sklearn.metrics import f1_score\n",
    "from sklearn.metrics import classification_report\n",
    "from sklearn.preprocessing import MinMaxScaler\n",
    "from sklearn.metrics import f1_score,accuracy_score,precision_score,recall_score\n",
    "from sklearn.svm import OneClassSVM\n",
    "from src import Convolution_Auto_Encoder, Mnist_Dataset,MVtecADDataset,Datadir_init\n",
    "from src import MVtecEncoder,MVtecDecoder,Convolution_Auto_Encoder\n",
    "from src import Machine_Metric,Reconstruction_Metric"
   ]
  },
  {
   "cell_type": "code",
   "execution_count": 104,
   "metadata": {},
   "outputs": [],
   "source": [
    "cfg = yaml.load(open('./Save_models/MVtecAD4/config.yaml','r'), Loader=yaml.FullLoader)"
   ]
  },
  {
   "cell_type": "code",
   "execution_count": 102,
   "metadata": {},
   "outputs": [],
   "source": [
    "def preprocess(cfg,augmentation=None):\n",
    "    #mk save dir \n",
    "    try:\n",
    "        os.mkdir(f\"./Save_models/{cfg['save_dir']}\")\n",
    "    except:\n",
    "        pass\n",
    "    torch.manual_seed(cfg['seed'])\n",
    "    data_dir = cfg['Dataset_dir']\n",
    "    Data_dir = Datadir_init()\n",
    "    train_dirs = Data_dir.train_load()\n",
    "    test_dirs,test_labels = Data_dir.test_load()\n",
    "    indx = int(len(train_dirs)*0.8)\n",
    "\n",
    "    train_dset = MVtecADDataset(cfg,train_dirs[:indx],Augmentation=augmentation)\n",
    "    valid_dset = MVtecADDataset(cfg,train_dirs[indx:])\n",
    "    test_dset = MVtecADDataset(cfg,test_dirs,test_labels)\n",
    "\n",
    "    train_loader = DataLoader(train_dset,batch_size=cfg['batch_size'],shuffle=True)\n",
    "    valid_loader = DataLoader(valid_dset,batch_size=cfg['batch_size'],shuffle=False)\n",
    "    test_loader = DataLoader(test_dset,batch_size=cfg['batch_size'],shuffle=False)\n",
    "    return train_loader,valid_loader,test_loader "
   ]
  },
  {
   "cell_type": "code",
   "execution_count": 30,
   "metadata": {},
   "outputs": [],
   "source": [
    "train_loader,valid_loader,test_loader  = preprocess(cfg)"
   ]
  },
  {
   "cell_type": "code",
   "execution_count": null,
   "metadata": {},
   "outputs": [],
   "source": [
    "from PIL import Image\n",
    "dir = './Dataset/hazelnut/train/good/000.png'\n",
    "img = Image.open(dir)\n",
    "img"
   ]
  },
  {
   "cell_type": "code",
   "execution_count": 115,
   "metadata": {},
   "outputs": [],
   "source": [
    "cfg['aug_number'] = 1"
   ]
  },
  {
   "cell_type": "code",
   "execution_count": 116,
   "metadata": {},
   "outputs": [
    {
     "data": {
      "text/plain": [
       "Compose(\n",
       "    ToTensor()\n",
       "    RandomAutocontrast(p=0.5)\n",
       "    Resize(size=(256, 256), interpolation=bilinear, max_size=None, antialias=None)\n",
       ")"
      ]
     },
     "execution_count": 116,
     "metadata": {},
     "output_type": "execute_result"
    },
    {
     "ename": "",
     "evalue": "",
     "output_type": "error",
     "traceback": [
      "\u001b[1;31m현재 셀 또는 이전 셀에서 코드를 실행하는 동안 Kernel이 충돌했습니다. 셀의 코드를 검토하여 오류의 가능한 원인을 식별하세요. 자세한 내용을 보려면 <a href='https://aka.ms/vscodeJupyterKernelCrash'> 여기 </a> 를 클릭하세요. 자세한 내용은 Jupyter <a href='command:jupyter.viewOutput'>로그</a>를 참조하세요."
     ]
    }
   ],
   "source": [
    "print(create_transformation(cfg))"
   ]
  }
 ],
 "metadata": {
  "kernelspec": {
   "display_name": "Python 3.8.10 64-bit",
   "language": "python",
   "name": "python3"
  },
  "language_info": {
   "codemirror_mode": {
    "name": "ipython",
    "version": 3
   },
   "file_extension": ".py",
   "mimetype": "text/x-python",
   "name": "python",
   "nbconvert_exporter": "python",
   "pygments_lexer": "ipython3",
   "version": "3.8.10"
  },
  "orig_nbformat": 4,
  "vscode": {
   "interpreter": {
    "hash": "916dbcbb3f70747c44a77c7bcd40155683ae19c65e1c03b4aa3499c5328201f1"
   }
  }
 },
 "nbformat": 4,
 "nbformat_minor": 2
}
