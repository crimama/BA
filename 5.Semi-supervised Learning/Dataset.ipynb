{
 "cells": [
  {
   "cell_type": "code",
   "execution_count": 17,
   "id": "19c73783-b040-4c48-a336-eb73d9886f8e",
   "metadata": {},
   "outputs": [],
   "source": [
    "import pickle \n",
    "import pandas as pd \n",
    "import numpy as np \n",
    "import os \n",
    "from glob import glob \n",
    "import tqdm \n",
    "from PIL import Image \n",
    "\n",
    "from src.Dataset import CifarDataset,label_unlabel_load\n",
    "\n",
    "import torch \n",
    "from torch.utils.data import DataLoader\n",
    "from torchvision import transforms"
   ]
  },
  {
   "cell_type": "code",
   "execution_count": 2,
   "id": "ade31341",
   "metadata": {},
   "outputs": [],
   "source": [
    "cfg = {}\n",
    "cfg['dataset'] = 'cifar10'\n",
    "cfg['unlabel_ratio'] = 0.9\n",
    "cfg['batch_size'] = 32 \n",
    "\n",
    "train_l,train_u,test = label_unlabel_load(cfg)\n",
    "tl_dataset = CifarDataset(train_l)\n",
    "tl_loader = DataLoader(tl_dataset,\n",
    "                       batch_size=cfg['batch_size'])\n",
    "tu_dataset = CifarDataset(train_u,\n",
    "                          unlabel=True)\n",
    "tu_loader = DataLoader(tu_dataset,\n",
    "                       batch_size=cfg['batch_size'])"
   ]
  },
  {
   "cell_type": "code",
   "execution_count": 65,
   "id": "a25bba77",
   "metadata": {},
   "outputs": [],
   "source": [
    "import torch.nn as nn \n",
    "\n",
    "class Model(nn.Module):\n",
    "    def __init__(self):\n",
    "        super(Model,self).__init__()\n",
    "        self.ford = nn.Sequential(self.cnn(3,16),\n",
    "                                  self.cnn(16,32),\n",
    "                                  self.cnn(32,64))\n",
    "        \n",
    "    def cnn(self,in_c,out_c):\n",
    "        layer= nn.Sequential(\n",
    "            nn.Conv2d(in_c,out_c,3,1,1),\n",
    "            nn.BatchNorm2d(out_c),\n",
    "            nn.ReLU(inplace=True)\n",
    "        )\n",
    "        return layer\n",
    "        \n",
    "    def forward(self,x):\n",
    "        x = self.ford(x)\n",
    "        return x \n",
    "        "
   ]
  },
  {
   "cell_type": "code",
   "execution_count": 13,
   "id": "3c3afc3f",
   "metadata": {},
   "outputs": [],
   "source": [
    "img = train_l['imgs'][0]"
   ]
  },
  {
   "cell_type": "code",
   "execution_count": 20,
   "id": "1ce85db0",
   "metadata": {},
   "outputs": [
    {
     "data": {
      "text/plain": [
       "torch.Size([3, 224, 224])"
      ]
     },
     "execution_count": 20,
     "metadata": {},
     "output_type": "execute_result"
    }
   ],
   "source": [
    "tf = transforms.Compose([\n",
    "    transforms.ToTensor(),\n",
    "    transforms.RandomResizedCrop(224)\n",
    "    \n",
    "])\n",
    "\n",
    "tf(img)"
   ]
  }
 ],
 "metadata": {
  "kernelspec": {
   "display_name": "Python 3",
   "language": "python",
   "name": "python3"
  },
  "language_info": {
   "codemirror_mode": {
    "name": "ipython",
    "version": 3
   },
   "file_extension": ".py",
   "mimetype": "text/x-python",
   "name": "python",
   "nbconvert_exporter": "python",
   "pygments_lexer": "ipython3",
   "version": "3.8.10"
  },
  "vscode": {
   "interpreter": {
    "hash": "916dbcbb3f70747c44a77c7bcd40155683ae19c65e1c03b4aa3499c5328201f1"
   }
  }
 },
 "nbformat": 4,
 "nbformat_minor": 5
}
